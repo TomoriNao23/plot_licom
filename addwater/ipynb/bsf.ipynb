{
 "cells": [
  {
   "cell_type": "markdown",
   "metadata": {},
   "source": [
    "### 画最后一年年平均的正压流函数bsf\n",
    "#### use NCL(6.6.2)"
   ]
  },
  {
   "cell_type": "code",
   "execution_count": 1,
   "metadata": {},
   "outputs": [],
   "source": [
    "output                 = \"/home/yyq/mls/dataprocess/addwater/photo/bsf\"\n",
    "datapath               = \"/data06/yyq/mls/licom2/ctrl/exe/\""
   ]
  },
  {
   "cell_type": "code",
   "execution_count": 2,
   "metadata": {},
   "outputs": [],
   "source": [
    "f_year                 = addfile(datapath+\"YME.nc\", \"r\")"
   ]
  },
  {
   "cell_type": "code",
   "execution_count": 3,
   "metadata": {},
   "outputs": [
    {
     "name": "stdout",
     "output_type": "stream",
     "text": [
      "Variable: bsf_year_a\n",
      "Type: float\n",
      "Total Size: 2511600 bytes\n",
      "            627900 values\n",
      "Number of Dimensions: 3\n",
      "Dimensions and sizes:\t[time | 30] x [lat | 115] x [lon | 182]\n",
      "Coordinates: \n",
      "            time: [ 709..1057]\n",
      "            lat: [90..-78]\n",
      "            lon: [ 0..362]\n",
      "Number Of Attributes: 4\n",
      "  long_name :\tBarotropic Stream Function\n",
      "  units :\tSverdrup\n",
      "  _FillValue :\t1e+35\n",
      "  missing_value :\t1e+35"
     ]
    }
   ],
   "source": [
    "bsf_year_a             = f_year->bsf(:,:,:)\n",
    "printVarSummary(bsf_year_a)"
   ]
  },
  {
   "cell_type": "markdown",
   "metadata": {},
   "source": [
    "bsf_year_end为最后一年年平均bsf"
   ]
  },
  {
   "cell_type": "code",
   "execution_count": 4,
   "metadata": {},
   "outputs": [
    {
     "name": "stdout",
     "output_type": "stream",
     "text": [
      "Variable: bsf_year_end\n",
      "Type: float\n",
      "Total Size: 82800 bytes\n",
      "            20700 values\n",
      "Number of Dimensions: 2\n",
      "Dimensions and sizes:\t[lat | 115] x [lon | 180]\n",
      "Coordinates: \n",
      "            lat: [90..-78]\n",
      "            lon: [ 0..358]\n",
      "Number Of Attributes: 5\n",
      "  time :\t1057\n",
      "  missing_value :\t1e+35\n",
      "  _FillValue :\t1e+35\n",
      "  units :\tSverdrup\n",
      "  long_name :\tBarotropic Stream Function"
     ]
    }
   ],
   "source": [
    "lon_size               = dimsizes(bsf_year_a(0,0,:)) - 3\n",
    "time_size              = dimsizes(bsf_year_a(:,0,0)) - 1\n",
    "bsf_year_end           = bsf_year_a(time_size,:,0:lon_size)\n",
    "printVarSummary(bsf_year_end)"
   ]
  },
  {
   "cell_type": "markdown",
   "metadata": {},
   "source": [
    "level为特定等值线"
   ]
  },
  {
   "cell_type": "code",
   "execution_count": 5,
   "metadata": {},
   "outputs": [
    {
     "name": "stdout",
     "output_type": "stream",
     "text": [
      "Variable: level\n",
      "Type: float\n",
      "Total Size: 56 bytes\n",
      "            14 values\n",
      "Number of Dimensions: 1\n",
      "Dimensions and sizes:\t[14]\n",
      "Coordinates: \n",
      "Number Of Attributes: 1\n",
      "  _FillValue :\t9.96921e+36\n",
      "(0)\t-80\n",
      "(1)\t-60\n",
      "(2)\t-40\n",
      "(3)\t-20\n",
      "(4)\t 0\n",
      "(5)\t20\n",
      "(6)\t40\n",
      "(7)\t60\n",
      "(8)\t80\n",
      "(9)\t100\n",
      "(10)\t120\n",
      "(11)\t140\n",
      "(12)\t160\n",
      "(13)\t180"
     ]
    }
   ],
   "source": [
    "level                  = new((/14/),float)  \n",
    "level                  = ispan(-80,180,20)\n",
    "level                  = level / 1\n",
    "print(level)"
   ]
  },
  {
   "cell_type": "markdown",
   "metadata": {},
   "source": [
    "Draw"
   ]
  },
  {
   "cell_type": "code",
   "execution_count": 6,
   "metadata": {},
   "outputs": [],
   "source": [
    "wks      = gsn_open_wks(\"png\", output)\n",
    "plots    = new(1,\"graphic\")\n",
    "res_0    = True\n",
    "    res_0@gsnDraw                   = False\n",
    "    res_0@gsnFrame                  = False\n",
    "    res_0@cnFillOn                  = True\n",
    "    res_0@mpCenterLonF              = 180\n",
    "    res_0@cnLineLabelsOn            = True\n",
    "    res_0@cnLevelSelectionMode      = \"ExplicitLevels\"\n",
    "    res_0@cnLevels                  = level\n",
    "    res_0@lbLabelBarOn              = False              ;关闭colorbar\n",
    "    res_0@gsnLeftString             = \"Barotropic Stream Function\"\n",
    "    res_0@gsnLeftStringFontHeightF  = 15\n",
    "    res_0@gsnRightString            = \"Sverdrup\"\n",
    "    res_0@gsnRightStringFontHeightF = 15\n",
    ";   res_0@cnFillPalette             = \"temp_diff_18lev\"\n",
    "plots(0) = gsn_csm_contour_map(wks,bsf_year_end, res_0)"
   ]
  },
  {
   "cell_type": "code",
   "execution_count": 7,
   "metadata": {},
   "outputs": [
    {
     "name": "stdout",
     "output_type": "stream",
     "text": [
      ".git      a.sh      addwater  nc        warming"
     ]
    }
   ],
   "source": [
    "resP     = True\n",
    "    resP@gsnPanelLabelBar           = True\n",
    "    resP@lbLabelStride              = 3              ;colorbar每1个色块一个标注\n",
    "    resP@lbLabelAutoStride          = False          ;colorbar每条等值线均标注\n",
    "    resP@lbBoxSeparatorLinesOn      = False          ;colorbar内部边框隐藏\n",
    "    resP@lbBoxLinesOn               = False          ;colorbar外边框设置为隐藏\n",
    "    resP@lbBoxEndCapStyle           = \"TriangleBothEnds\"\n",
    "gsn_panel(wks, plots, (/1,1/), resP)"
   ]
  },
  {
   "cell_type": "markdown",
   "metadata": {},
   "source": [
    "![bsf](../photo/bsf.png)"
   ]
  }
 ],
 "metadata": {
  "kernelspec": {
   "display_name": "NCL",
   "language": "ncl",
   "name": "ncl_kernel"
  },
  "language_info": {
   "file_extension": ".ncl",
   "mimetype": "text/plain",
   "name": "ncl"
  }
 },
 "nbformat": 4,
 "nbformat_minor": 2
}
