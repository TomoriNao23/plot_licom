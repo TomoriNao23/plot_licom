{
 "cells": [
  {
   "cell_type": "markdown",
   "metadata": {},
   "source": [
    "### 将各个大洋插值到指定网格\n",
    "#### use NCL(6.6.2)"
   ]
  },
  {
   "cell_type": "markdown",
   "metadata": {},
   "source": [
    "grid_path掩膜原始格点，datapath目标网格格点"
   ]
  },
  {
   "cell_type": "code",
   "execution_count": null,
   "metadata": {},
   "outputs": [],
   "source": [
    "output                 = \"/home/yyq/mls/dataprocess/addwater/photo/grid\"\n",
    "outfile                = \"/home/yyq/mls/dataprocess/nc/basin_new.nc\"\n",
    "grid_path              = \"/home/yyq/mls/dataprocess/nc/BASIN_362X196_new.nc\"\n",
    "datapath               = \"/data06/yyq/mls/licom2/addwater_new/exe/\""
   ]
  },
  {
   "cell_type": "code",
   "execution_count": null,
   "metadata": {},
   "outputs": [],
   "source": [
    "f_grid                 = addfile(grid_path, \"r\")\n",
    "f_year                 = addfile(datapath+\"YME.nc\", \"r\")"
   ]
  },
  {
   "cell_type": "code",
   "execution_count": null,
   "metadata": {},
   "outputs": [],
   "source": [
    "lat_new                = f_year->lat\n",
    "lon_new                = f_year->lon({0:359})  \n",
    "printVarSummary(lat_new)\n",
    "printVarSummary(lon_new)"
   ]
  },
  {
   "cell_type": "code",
   "execution_count": null,
   "metadata": {},
   "outputs": [],
   "source": [
    "indd                   = (/f_grid->ind(:,{0:359})/)\n",
    "lat                    = (/f_grid->lat/)\n",
    "lon                    = (/f_grid->lon({0:359})/)  \n",
    "printVarSummary(lat)\n",
    "printVarSummary(lon)"
   ]
  },
  {
   "cell_type": "markdown",
   "metadata": {},
   "source": [
    "整个大西洋赋值2，印度洋3，太平洋4"
   ]
  },
  {
   "cell_type": "code",
   "execution_count": null,
   "metadata": {},
   "outputs": [],
   "source": [
    "indd                   = where(indd.eq.5,2,indd)\n",
    "indd                   = where(indd.eq.7,4,indd)\n",
    "indd                   = where(indd.eq.6,3,indd)"
   ]
  },
  {
   "cell_type": "markdown",
   "metadata": {},
   "source": [
    "插值"
   ]
  },
  {
   "cell_type": "code",
   "execution_count": null,
   "metadata": {},
   "outputs": [],
   "source": [
    "indd_new               = linint2 (lon,lat,indd, True, lon_new,lat_new, 0)"
   ]
  },
  {
   "cell_type": "markdown",
   "metadata": {},
   "source": [
    "写入metadata"
   ]
  },
  {
   "cell_type": "code",
   "execution_count": null,
   "metadata": {},
   "outputs": [],
   "source": [
    "indd_new!0             = \"lat\"                                                            \n",
    "indd_new!1             = \"lon\"\n",
    "lon_pts                = lon_new\n",
    "lat_pts                = lat_new\n",
    "lon_pts@units          = \"degrees_east\" \n",
    "lat_pts@units          = \"degrees_north\"\n",
    "indd_new&lon           = lon_pts \n",
    "indd_new&lat           = lat_pts\n",
    "printVarSummary(indd_new)"
   ]
  },
  {
   "cell_type": "markdown",
   "metadata": {},
   "source": [
    "输出nc文件"
   ]
  },
  {
   "cell_type": "code",
   "execution_count": null,
   "metadata": {},
   "outputs": [],
   "source": [
    "if (isfilepresent(outfile)) then\n",
    "    system (\"rm \" + outfile)\n",
    "end if\n",
    "f_output = addfile(outfile, \"c\")\n",
    "f_output->lat = lat_new\n",
    "f_output->lon = lon_new\n",
    "f_output->indd = indd_new"
   ]
  },
  {
   "cell_type": "markdown",
   "metadata": {},
   "source": [
    ";画图检验"
   ]
  },
  {
   "cell_type": "code",
   "execution_count": null,
   "metadata": {},
   "outputs": [],
   "source": [
    "wks      = gsn_open_wks(\"png\", output)\n",
    "plots    = new(1,\"graphic\")\n",
    "res_0    = True\n",
    "    res_0@gsnDraw                   =  False\n",
    "    res_0@gsnFrame                  =  False\n",
    "    res_0@cnFillOn                  =  True\n",
    "    res_0@cnInfoLabelOn             =  False\n",
    "    res_0@cnLinesOn                 =  False\n",
    "    res_0@cnLineLabelsOn            =  False\n",
    "    res_0@lbLabelBarOn              =  False\n",
    "    res_0@mpCenterLonF              = 180\n",
    "plots(0) = gsn_csm_contour_map(wks,indd_new, res_0)\n",
    "\n",
    "resP    = True\n",
    "    resP@gsnPanelLabelBar           = False\n",
    "    resP@lbLabelAutoStride          = False\n",
    "    resP@lbBoxSeparatorLinesOn      = False\n",
    "    resP@lbBoxLinesOn               = False\n",
    "    resP@lbBoxEndCapStyle           = \"TriangleBothEnds\"\n",
    "gsn_panel(wks, plots, (/1,1/), resP)"
   ]
  },
  {
   "cell_type": "markdown",
   "metadata": {},
   "source": [
    "![grid](../photo/grid.png)"
   ]
  }
 ],
 "metadata": {
  "kernelspec": {
   "display_name": "NCL",
   "language": "ncl",
   "name": "ncl_kernel"
  },
  "language_info": {
   "file_extension": ".ncl",
   "mimetype": "text/plain",
   "name": "ncl"
  }
 },
 "nbformat": 4,
 "nbformat_minor": 2
}
