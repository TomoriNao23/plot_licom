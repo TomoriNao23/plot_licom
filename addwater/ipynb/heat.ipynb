{
 "cells": [
  {
   "cell_type": "markdown",
   "metadata": {},
   "source": [
    "### <center>__画最后一年年平均的净海表热通量Net Surface Heat Flux经向热输送Heat Transport__"
   ]
  },
  {
   "cell_type": "code",
   "execution_count": 1,
   "metadata": {},
   "outputs": [],
   "source": [
    "output                 = \"/home/yyq/mls/dataprocess/addwater/photo/heat\"\n",
    "outputB                = \"/home/yyq/mls/dataprocess/addwater/photo/heat_lat\"\n",
    "datapath               = \"/data06/yyq/mls/licom2/addwater_new/exe/\"\n",
    "gridpath               = \"/home/yyq/mls/dataprocess/grid/basin_new.nc\""
   ]
  },
  {
   "cell_type": "code",
   "execution_count": 2,
   "metadata": {},
   "outputs": [],
   "source": [
    "fileslist              = systemfunc(\"ls \"+ datapath+\"MMEAN\" +\"*\") \n",
    "f                      = addfiles(fileslist, \"r\") \n",
    "f_grid                 = addfile(gridpath, \"r\")"
   ]
  },
  {
   "cell_type": "code",
   "execution_count": 3,
   "metadata": {},
   "outputs": [],
   "source": [
    "time_last              = dimsizes(fileslist) - 1"
   ]
  },
  {
   "cell_type": "code",
   "execution_count": 4,
   "metadata": {},
   "outputs": [],
   "source": [
    "lev                    = f[0]->lev1\n",
    "lat                    = f[0]->lat\n",
    "vs_a                   = f[(time_last - 11):time_last]->vs\n",
    "ts_a                   = f[(time_last - 11):time_last]->ts\n",
    "net_a                   = f[(time_last - 11):time_last]->net1\n",
    "indd                   = f_grid->indd"
   ]
  },
  {
   "cell_type": "code",
   "execution_count": 5,
   "metadata": {},
   "outputs": [],
   "source": [
    "time_size              = dimsizes(vs_a(:,0,0,0)) - 1\n",
    "lat_size               = dimsizes(vs_a(0,0,:,0)) - 1\n",
    "lon_size               = dimsizes(vs_a(0,0,0,:)) - 1 - 2\n",
    "lev_size               = dimsizes(lev) - 1"
   ]
  },
  {
   "cell_type": "code",
   "execution_count": 6,
   "metadata": {},
   "outputs": [
    {
     "name": "stdout",
     "output_type": "stream",
     "text": [
      "Variable: vs\n",
      "Type: float\n",
      "Total Size: 29808000 bytes\n",
      "            7452000 values\n",
      "Number of Dimensions: 4\n",
      "Dimensions and sizes:\t[time | 12] x [lev | 30] x [lat | 115] x [lon | 180]\n",
      "Coordinates: \n",
      "            time: [1057..1068]\n",
      "            lev: [-5..-5243.597]\n",
      "            lat: [90..-78]\n",
      "            lon: [ 0..358]\n",
      "Number Of Attributes: 3\n",
      "  _FillValue :\t1e+35\n",
      "  units :\tm/s\n",
      "  long_name :\tmeridional current"
     ]
    }
   ],
   "source": [
    "vs                     = vs_a(:,:,:,0:lon_size)\n",
    "ts                     = ts_a(:,:,:,0:lon_size)\n",
    "net                    = net_a(:,:,0:lon_size)\n",
    "printVarSummary(vs)"
   ]
  },
  {
   "cell_type": "code",
   "execution_count": 7,
   "metadata": {},
   "outputs": [],
   "source": [
    "angle2radian= 4.0 * atan(1.0) / 180.0\n",
    "r_earth = 6.371e6\n",
    "dlon = 2\n",
    "Cp = 4.18e3\n",
    "rho0 = 1027"
   ]
  },
  {
   "cell_type": "code",
   "execution_count": 8,
   "metadata": {},
   "outputs": [],
   "source": [
    "r = r_earth * cos (lat * angle2radian)\n",
    "dx= r * (dlon * angle2radian)\n",
    "dz = new((/lev_size/),typeof(lev))\n",
    "do z = 1,lev_size\n",
    "    dz(z-1) = ((lev(z) - lev(z-1))) * (-1)\n",
    "end do "
   ]
  },
  {
   "cell_type": "code",
   "execution_count": 9,
   "metadata": {},
   "outputs": [
    {
     "name": "stdout",
     "output_type": "stream",
     "text": [
      "Variable: dx_conform\n",
      "Type: float\n",
      "Total Size: 29808000 bytes\n",
      "            7452000 values\n",
      "Number of Dimensions: 4\n",
      "Dimensions and sizes:\t[12] x [30] x [115] x [180]\n",
      "Coordinates: \n",
      "Number Of Attributes: 1\n",
      "  _FillValue :\t9.96921e+36"
     ]
    }
   ],
   "source": [
    "dz_conform = new((/time_size+1,lev_size,lat_size+1,lon_size+1/),float)\n",
    "dz_conform = conform(dz_conform, dz, (/1/))\n",
    "dx_conform = new((/time_size+1,lev_size,lat_size+1,lon_size+1/),float)\n",
    "dx_conform = conform(dx_conform, dx, (/2/))\n",
    "printVarSummary(dx_conform)"
   ]
  },
  {
   "cell_type": "markdown",
   "metadata": {},
   "source": [
    "Integrate"
   ]
  },
  {
   "cell_type": "code",
   "execution_count": 10,
   "metadata": {},
   "outputs": [
    {
     "name": "stdout",
     "output_type": "stream",
     "text": [
      "Variable: heat_integrate_lev\n",
      "Type: float\n",
      "Total Size: 993600 bytes\n",
      "            248400 values\n",
      "Number of Dimensions: 3\n",
      "Dimensions and sizes:\t[time | 12] x [lat | 115] x [lon | 180]\n",
      "Coordinates: \n",
      "            time: [1057..1068]\n",
      "            lat: [90..-78]\n",
      "            lon: [ 0..358]\n",
      "Number Of Attributes: 4\n",
      "  units :\tPW\n",
      "  long_name :\tmeridional heat transport\n",
      "  lev :\t-5\n",
      "  _FillValue :\t1e+35"
     ]
    }
   ],
   "source": [
    "heat = vs * ts * dz_conform * dx_conform * Cp * rho0                            \n",
    "heat_integrate_lev =dim_sum_n(heat, 1)/(1e15)                                  \n",
    "copy_VarMeta(vs(:,0,:,:), heat_integrate_lev)\n",
    "heat_integrate_lev@long_name = \"meridional heat transport\"\n",
    "heat_integrate_lev@units = \"PW\"\n",
    "printVarSummary(heat_integrate_lev)"
   ]
  },
  {
   "cell_type": "markdown",
   "metadata": {},
   "source": [
    "net_basin"
   ]
  },
  {
   "cell_type": "code",
   "execution_count": 11,
   "metadata": {},
   "outputs": [
    {
     "name": "stdout",
     "output_type": "stream",
     "text": [
      "Variable: net_avg\n",
      "Type: float\n",
      "Total Size: 82800 bytes\n",
      "            20700 values\n",
      "Number of Dimensions: 2\n",
      "Dimensions and sizes:\t[lat | 115] x [lon | 180]\n",
      "Coordinates: \n",
      "            lat: [90..-78]\n",
      "            lon: [ 0..358]\n",
      "Number Of Attributes: 4\n",
      "  units :\tW/m^2\n",
      "  long_name :\tnet surface heat flux\n",
      "  time :\t1057\n",
      "  _FillValue :\t1e+35Variable: net_avg_lat_indian\n",
      "Type: float\n",
      "Total Size: 460 bytes\n",
      "            115 values\n",
      "Number of Dimensions: 1\n",
      "Dimensions and sizes:\t[lat | 115]\n",
      "Coordinates: \n",
      "            lat: [90..-78]\n",
      "Number Of Attributes: 5\n",
      "  _FillValue :\t1e+35\n",
      "  time :\t1057\n",
      "  long_name :\tnet surface heat flux\n",
      "  units :\tW/m^2\n",
      "  sum_op_ncl :\tdim_sum_n over dimension(s): lon"
     ]
    }
   ],
   "source": [
    "net_avg               = dim_avg_n(net*1e6,0)   \n",
    "copy_VarMeta(net(0,:,:), net_avg)\n",
    "net_avg_lat           = dim_sum_n_Wrap(net_avg,1) \n",
    "\n",
    ";Pacfic\n",
    "net_avg_pacfic        = net_avg\n",
    "net_avg_pacfic        = where(indd.eq.4, net_avg, net_avg@_FillValue)\n",
    "net_avg_lat_pacfic    = dim_sum_n_Wrap(net_avg_pacfic,1)\n",
    "\n",
    ";Atlantic\n",
    "net_avg_atlantic      = net_avg\n",
    "net_avg_atlantic      = where(indd.eq.2, net_avg, net_avg@_FillValue)\n",
    "net_avg_lat_atlantic  = dim_sum_n_Wrap(net_avg_atlantic,1)\n",
    "\n",
    ";Indian\n",
    "net_avg_indian        = net_avg\n",
    "net_avg_indian        = where(indd.eq.3, net_avg, net_avg@_FillValue)\n",
    "net_avg_lat_indian    = dim_sum_n_Wrap(net_avg_indian,1)\n",
    "\n",
    "printVarSummary(net_avg)\n",
    "printVarSummary(net_avg_lat_indian)"
   ]
  },
  {
   "cell_type": "markdown",
   "metadata": {},
   "source": [
    "heat_trans_basin"
   ]
  },
  {
   "cell_type": "code",
   "execution_count": 12,
   "metadata": {},
   "outputs": [
    {
     "name": "stdout",
     "output_type": "stream",
     "text": [
      "Variable: heat_avg\n",
      "Type: float\n",
      "Total Size: 82800 bytes\n",
      "            20700 values\n",
      "Number of Dimensions: 2\n",
      "Dimensions and sizes:\t[lat | 115] x [lon | 180]\n",
      "Coordinates: \n",
      "            lat: [90..-78]\n",
      "            lon: [ 0..358]\n",
      "Number Of Attributes: 5\n",
      "  _FillValue :\t1e+35\n",
      "  units :\tPW\n",
      "  long_name :\tmeridional heat transport\n",
      "  lev :\t-5\n",
      "  average_op_ncl :\tdim_avg_n over dimension(s): timeVariable: heat_avg_lat\n",
      "Type: float\n",
      "Total Size: 460 bytes\n",
      "            115 values\n",
      "Number of Dimensions: 1\n",
      "Dimensions and sizes:\t[lat | 115]\n",
      "Coordinates: \n",
      "            lat: [90..-78]\n",
      "Number Of Attributes: 6\n",
      "  _FillValue :\t1e+35\n",
      "  units :\tPW\n",
      "  long_name :\tmeridional heat transport\n",
      "  lev :\t-5\n",
      "  average_op_ncl :\tdim_avg_n over dimension(s): time\n",
      "  sum_op_ncl :\tdim_sum_n over dimension(s): lon"
     ]
    }
   ],
   "source": [
    ";all basin\n",
    "heat_avg               = dim_avg_n_Wrap(heat_integrate_lev,0)                                     \n",
    "heat_avg_lat           = dim_sum_n_Wrap(heat_avg,1)              \n",
    "heat_avg_lat           = runave(heat_avg_lat, 9, 0)\n",
    ";Pacfic\n",
    "heat_avg_pacfic        = heat_avg\n",
    "heat_avg_pacfic        = where(indd.eq.4, heat_avg, heat_avg@_FillValue)\n",
    "heat_avg_lat_pacfic    = dim_sum_n_Wrap(heat_avg_pacfic,1)\n",
    "heat_avg_lat_pacfic    = runave(heat_avg_lat_pacfic, 9, 0)\n",
    ";Atlantic\n",
    "heat_avg_atlantic      = heat_avg\n",
    "heat_avg_atlantic      = where(indd.eq.2, heat_avg, heat_avg@_FillValue)\n",
    "heat_avg_lat_atlantic  = dim_sum_n_Wrap(heat_avg_atlantic,1)\n",
    "heat_avg_lat_atlantic  = runave(heat_avg_lat_atlantic, 9, 0)\n",
    ";Indian\n",
    "heat_avg_indian        = heat_avg\n",
    "heat_avg_indian        = where(indd.eq.3, heat_avg, heat_avg@_FillValue)\n",
    "heat_avg_lat_indian    = dim_sum_n_Wrap(heat_avg_indian,1)\n",
    "heat_avg_lat_indian    = runave(heat_avg_lat_indian, 9, 0)\n",
    "\n",
    "printVarSummary(heat_avg)\n",
    "printVarSummary(heat_avg_lat)"
   ]
  },
  {
   "cell_type": "code",
   "execution_count": 13,
   "metadata": {},
   "outputs": [],
   "source": [
    "level1                  = new((/51/),float)  \n",
    "level1                  = ispan(-25,25,1)\n",
    "level1                  = level1 / 10\n",
    "\n",
    "level2                  = new((/51/),float)  \n",
    "level2                  = ispan(-50,50,2)\n",
    "level2                  = level2 / 10\n"
   ]
  },
  {
   "cell_type": "markdown",
   "metadata": {},
   "source": [
    "Draw"
   ]
  },
  {
   "cell_type": "code",
   "execution_count": 14,
   "metadata": {},
   "outputs": [
    {
     "name": "stdout",
     "output_type": "stream",
     "text": [
      ".git      addwater  grid      test      tool      warming.git      addwater  grid      test      tool      warming"
     ]
    }
   ],
   "source": [
    "wks      = gsn_open_wks(\"png\", output)\n",
    "plots    = new(2,\"graphic\")\n",
    "res_0    = True\n",
    "    res_0@gsnDraw                   =  False\n",
    "    res_0@gsnFrame                  =  False\n",
    "    res_0@cnFillOn                  =  True\n",
    "    res_0@cnInfoLabelOn             =  False\n",
    "    res_0@cnLinesOn                 =  False\n",
    "    res_0@cnLineLabelsOn            =  False\n",
    "    res_0@lbLabelBarOn              =  False\n",
    "    res_0@cnLevelSelectionMode      = \"ExplicitLevels\"\n",
    "    res_0@cnFillPalette             = \"BlRe\"\n",
    "    res_0@cnLevels                  = level1\n",
    "    res_0@gsnLeftString             = \"Meridional Heat Transport\"\n",
    "    res_0@gsnLeftStringFontHeightF  = 15\n",
    "    res_0@gsnRightString            = \"PW\"\n",
    "    res_0@gsnRightStringFontHeightF = 15\n",
    "    res_0@mpCenterLonF              = 180\n",
    "    res_0@lbLabelBarOn              = True\n",
    "    res_0@lbLabelStride              = 5                 ;colorbar每5个色块一个标注\n",
    "    res_0@lbLabelAutoStride          = False             ;colorbar每条等值线均标注\n",
    "    res_0@lbBoxSeparatorLinesOn      = False             ;colorbar内部边框隐藏\n",
    "    res_0@lbBoxLinesOn               = False             ;colorbar外边框设置为隐藏\n",
    "    res_0@pmLabelBarHeightF          = 0.05              ;colorbar高度\n",
    "    res_0@pmLabelBarWidthF           = 0.8               ;colorbar宽度\n",
    "    res_0@pmLabelBarOrthogonalPosF   = 0.1               ;colorbar水平偏移\n",
    "    res_0@lbBoxEndCapStyle           = \"TriangleBothEnds\"\n",
    "plots(1) = gsn_csm_contour_map(wks,heat_avg, res_0)\n",
    "\n",
    "res_1 = True\n",
    "    res_1@gsnDraw                   =  False\n",
    "    res_1@gsnFrame                  =  False\n",
    "    res_1@cnFillOn                  =  True\n",
    "    res_1@cnInfoLabelOn             =  False\n",
    "    res_1@cnLinesOn                 =  False\n",
    "    res_1@cnLineLabelsOn            =  False\n",
    "    res_1@lbLabelBarOn              =  False\n",
    "    res_1@cnFillPalette             = \"BlRe\"\n",
    "    res_1@cnLevelSelectionMode      = \"ExplicitLevels\"\n",
    "    res_1@cnLevels                  = level2\n",
    "    res_1@mpCenterLonF              = 180\n",
    "    res_1@lbLabelBarOn              = True\n",
    "    res_1@lbLabelStride              = 5                 ;colorbar每5个色块一个标注\n",
    "    res_1@lbLabelAutoStride          = False             ;colorbar每条等值线均标注\n",
    "    res_1@lbBoxSeparatorLinesOn      = False             ;colorbar内部边框隐藏\n",
    "    res_1@lbBoxLinesOn               = False             ;colorbar外边框设置为隐藏\n",
    "    res_1@pmLabelBarHeightF          = 0.05              ;colorbar高度\n",
    "    res_1@pmLabelBarWidthF           = 0.8               ;colorbar宽度\n",
    "    res_1@pmLabelBarOrthogonalPosF   = 0.1               ;colorbar水平偏移\n",
    "    res_1@lbBoxEndCapStyle           = \"TriangleBothEnds\"\n",
    "plots(0) = gsn_csm_contour_map(wks,net_avg, res_1)\n",
    "\n",
    "gsn_panel(wks, plots, (/1,2/), True)"
   ]
  },
  {
   "cell_type": "markdown",
   "metadata": {},
   "source": [
    "![heat](../photo/heat.png)"
   ]
  },
  {
   "cell_type": "markdown",
   "metadata": {},
   "source": [
    "Draw lat_avg"
   ]
  },
  {
   "cell_type": "code",
   "execution_count": 15,
   "metadata": {},
   "outputs": [],
   "source": [
    "y2                      = new((/4,lat_size + 1/),float)\n",
    "y2(3,:)                 = heat_avg_lat\n",
    "y2(2,:)                 = heat_avg_lat_pacfic\n",
    "y2(1,:)                 = heat_avg_lat_atlantic\n",
    "y2(0,:)                 = heat_avg_lat_indian\n",
    "\n",
    "y1                      = new((/4,lat_size + 1/),float)\n",
    "y1(3,:)                 = net_avg_lat\n",
    "y1(2,:)                 = net_avg_lat_pacfic\n",
    "y1(1,:)                 = net_avg_lat_atlantic\n",
    "y1(0,:)                 = net_avg_lat_indian"
   ]
  },
  {
   "cell_type": "code",
   "execution_count": 16,
   "metadata": {},
   "outputs": [],
   "source": [
    "wksB                              = gsn_open_wks(\"png\", outputB)\n",
    "plotsB                            = new(2,\"graphic\")\n",
    "resB_0    = True\n",
    "    resB_0@gsnDraw                = False\n",
    "    resB_0@gsnFrame               = False           \n",
    "    resB_0@vpHeightF              = 0.37\n",
    "    resB_0@vpWidthF               = 0.6\n",
    "    resB_0@tiXAxisString          = \"Latitude\" \n",
    "    resB_0@tiYAxisString          = \"Heat Transport(PW)\" \n",
    "    resB_0@gsnYRefLine            = 0\n",
    "    resB_0@gsnYRefLineThicknessF  = 1.5\n",
    "    resB_0@xyLineColors           = (/\"purple\",\"red\",\"green\",\"black\"/)\n",
    "    resB_0@xyDashPatterns         = (/0,0,0,0/)\n",
    "    resB_0@xyLineThicknessF       = 3\n",
    "    resB_0@trYMinF                = -2.5            \n",
    "    resB_0@trYMaxF                = 2.5\n",
    "    resB_0@trXMinF                = -35\n",
    "    resB_0@trXMaxF                = 65\n",
    "\n",
    "    resB_0@pmLegendDisplayMode    = \"Always\"\n",
    "    resB_0@pmLegendOrthogonalPosF = -0.5\n",
    "    resB_0@pmLegendParallelPosF   = 0.89\n",
    "    resB_0@pmLegendWidthF         = 0.13\n",
    "    resB_0@pmLegendHeightF        = 0.1\n",
    "    resB_0@xyExplicitLabels       = (/\"Indian\",\"Atlantic\",\"Pacific\",\"Total\"/)\n",
    "plotsB(1)                          = gsn_csm_xy(wksB,lat,y2, resB_0)\n",
    "\n",
    "resB_1    = True\n",
    "    resB_1@gsnDraw                = False\n",
    "    resB_1@gsnFrame               = False           \n",
    "    resB_1@vpHeightF              = 0.37\n",
    "    resB_1@vpWidthF               = 0.6\n",
    "    resB_1@tiXAxisString          = \"Latitude\" \n",
    "    resB_1@tiYAxisString          = \"Net Surface Heat Flux\" \n",
    "    resB_1@gsnYRefLine            = 0\n",
    "    resB_1@gsnYRefLineThicknessF  = 1.5\n",
    "    resB_1@xyLineColors           = (/\"purple\",\"red\",\"green\",\"black\"/)\n",
    "    resB_1@xyDashPatterns         = (/0,0,0,0/)\n",
    "    resB_1@xyLineThicknessF       = 3\n",
    ";    resB_1@trYMinF                = -2.5            \n",
    ";    resB_1@trYMaxF                = 2.5\n",
    "    resB_1@trXMinF                = -35\n",
    "    resB_1@trXMaxF                = 65\n",
    "\n",
    "    resB_1@pmLegendDisplayMode    = \"Always\"\n",
    "    resB_1@pmLegendOrthogonalPosF = -0.5\n",
    "    resB_1@pmLegendParallelPosF   = 0.89\n",
    "    resB_1@pmLegendWidthF         = 0.13\n",
    "    resB_1@pmLegendHeightF        = 0.1\n",
    "    resB_1@xyExplicitLabels       = (/\"Indian\",\"Atlantic\",\"Pacific\",\"Total\"/)\n",
    "plotsB(0)                          = gsn_csm_xy(wksB,lat,y1, resB_1)\n",
    "\n",
    "resBP                              = True\n",
    "gsn_panel(wksB, plotsB, (/1,2/), resBP)"
   ]
  },
  {
   "cell_type": "markdown",
   "metadata": {},
   "source": [
    "![heat_lat](../photo/heat_lat.png )"
   ]
  }
 ],
 "metadata": {
  "kernelspec": {
   "display_name": "NCL",
   "language": "ncl",
   "name": "ncl_kernel"
  },
  "language_info": {
   "file_extension": ".ncl",
   "mimetype": "text/plain",
   "name": "ncl"
  }
 },
 "nbformat": 4,
 "nbformat_minor": 2
}
