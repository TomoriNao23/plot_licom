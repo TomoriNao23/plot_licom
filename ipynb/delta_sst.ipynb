{
 "cells": [
  {
   "cell_type": "markdown",
   "metadata": {},
   "source": [
    "### 画最后一年年平均sst场与ctrl试验的差值\n",
    "#### use NCL(6.6.2)"
   ]
  },
  {
   "cell_type": "code",
   "execution_count": 1,
   "metadata": {},
   "outputs": [],
   "source": [
    "output                 = \"/home/yyq/mls/dataprocess/photo/delta_sst\"\n",
    "datapath               = \"/data06/yyq/mls/licom2/addwater_new/exe/\"\n",
    "datapath_ctrl          = \"/data06/yyq/mls/licom2/ctrl/exe/\""
   ]
  },
  {
   "cell_type": "code",
   "execution_count": 2,
   "metadata": {},
   "outputs": [],
   "source": [
    "f                      = addfile(datapath+\"YME.nc\", \"r\")\n",
    "f_year_ctrl            = addfile(datapath_ctrl+\"YME.nc\", \"r\")"
   ]
  },
  {
   "cell_type": "code",
   "execution_count": 3,
   "metadata": {},
   "outputs": [],
   "source": [
    "sst_a                  = f->ts(:,0,:,:)\n",
    "sst_ctrl_a             = f_year_ctrl->ts(:,0,:,:)"
   ]
  },
  {
   "cell_type": "code",
   "execution_count": 4,
   "metadata": {},
   "outputs": [],
   "source": [
    "lon_size               = dimsizes(sst_a(0,0,:)) - 3\n",
    "sst                    = sst_a(:,:,0:lon_size)\n",
    "sst_ctrl               = sst_ctrl_a(:,:,0:lon_size)"
   ]
  },
  {
   "cell_type": "code",
   "execution_count": 5,
   "metadata": {},
   "outputs": [
    {
     "name": "stdout",
     "output_type": "stream",
     "text": [
      "Variable: sst_delta\n",
      "Type: float\n",
      "Total Size: 82800 bytes\n",
      "            20700 values\n",
      "Number of Dimensions: 2\n",
      "Dimensions and sizes:\t[lat | 115] x [lon | 180]\n",
      "Coordinates: \n",
      "            lat: [90..-78]\n",
      "            lon: [ 0..358]\n",
      "Number Of Attributes: 6\n",
      "  missing_value :\t1e+35\n",
      "  units :\tcentigrade\n",
      "  long_name :\ttemperature\n",
      "  lev :\t-5\n",
      "  time :\t 709\n",
      "  _FillValue :\t1e+35"
     ]
    }
   ],
   "source": [
    "size_1                 = dimsizes(sst(:,0,0)) - 1\n",
    "sst_delta              = sst(size_1,:,:) - sst_ctrl(0,:,:)\n",
    "copy_VarMeta(sst(0,:,:), sst_delta)\n",
    "\n",
    "printVarSummary(sst_delta)"
   ]
  },
  {
   "cell_type": "code",
   "execution_count": 6,
   "metadata": {},
   "outputs": [],
   "source": [
    "level                  = new((/13/),float)  \n",
    "level                  = ispan(-12,12,2)\n",
    "level                  = level / 10"
   ]
  },
  {
   "cell_type": "code",
   "execution_count": 19,
   "metadata": {},
   "outputs": [
    {
     "name": "stdout",
     "output_type": "stream",
     "text": [
      ".git   a.sh   ipynb  nc     ncl    photo  t"
     ]
    }
   ],
   "source": [
    "wks      = gsn_open_wks(\"png\", output)\n",
    "plots    = new(1,\"graphic\")\n",
    "res_0    = True\n",
    "    res_0@gsnDraw                   =  False\n",
    "    res_0@gsnFrame                  =  False\n",
    "    res_0@cnFillOn                  =  True\n",
    "    res_0@cnInfoLabelOn             =  False\n",
    "    res_0@cnLinesOn                 =  False\n",
    "    res_0@cnLineLabelsOn            =  False\n",
    "    res_0@lbLabelBarOn              =  False\n",
    "    res_0@cnLevelSelectionMode      = \"ExplicitLevels\"\n",
    "    res_0@cnLevels                  = level\n",
    "    res_0@gsnLeftString             = \"delta SST\"\n",
    "    res_0@gsnLeftStringFontHeightF  = 15\n",
    "    res_0@gsnRightString            = \"K\"\n",
    "    res_0@gsnRightStringFontHeightF = 15\n",
    "    res_0@cnFillPalette             = \"temp_diff_18lev\"\n",
    "    res_0@mpCenterLonF              = 180\n",
    "plots(0) = gsn_csm_contour_map(wks,sst_delta, res_0)\n",
    "\n",
    "resP    = True\n",
    "resP@gsnPanelLabelBar           = True\n",
    "resP@lbLabelStride              = 4                 ;colorbar每5个色块一个标注\n",
    "resP@lbLabelAutoStride          = False             ;colorbar每条等值线均标注\n",
    "resP@lbBoxSeparatorLinesOn      = False             ;colorbar内部边框隐藏\n",
    "resP@lbBoxLinesOn               = False             ;colorbar外边框设置为隐藏\n",
    "resP@pmLabelBarHeightF          = 0.05              ;colorbar高度\n",
    "resP@pmLabelBarWidthF           = 0.9               ;colorbar宽度\n",
    "resP@pmLabelBarParallelPosF     = 0.026            ;colorbar水平偏移\n",
    "resP@lbBoxEndCapStyle           = \"TriangleBothEnds\"\n",
    "gsn_panel(wks, plots, (/1,1/), resP)"
   ]
  },
  {
   "cell_type": "markdown",
   "metadata": {},
   "source": [
    "![delta_sst](../photo/delta_sst.png)"
   ]
  }
 ],
 "metadata": {
  "kernelspec": {
   "display_name": "NCL",
   "language": "ncl",
   "name": "ncl_kernel"
  },
  "language_info": {
   "file_extension": ".ncl",
   "mimetype": "text/plain",
   "name": "ncl"
  }
 },
 "nbformat": 4,
 "nbformat_minor": 2
}
