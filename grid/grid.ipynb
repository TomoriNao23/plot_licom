{
 "cells": [
  {
   "cell_type": "markdown",
   "metadata": {},
   "source": [
    "### <center>__将各个大洋插值到指定网格__"
   ]
  },
  {
   "cell_type": "markdown",
   "metadata": {},
   "source": [
    "grid_path掩膜原始格点，datapath目标网格格点"
   ]
  },
  {
   "cell_type": "code",
   "execution_count": 1,
   "metadata": {},
   "outputs": [],
   "source": [
    "output_photo           = \"/home/yyq/mls/dataprocess/grid/grid\"\n",
    "outfile                = \"/home/yyq/mls/dataprocess/grid/basin_new.nc\"\n",
    "grid_path              = \"/home/yyq/mls/dataprocess/grid/BASIN_362X196_new.nc\"\n",
    "datapath               = \"/data06/yyq/mls/licom2/addwater_new/exe/\""
   ]
  },
  {
   "cell_type": "code",
   "execution_count": 2,
   "metadata": {},
   "outputs": [],
   "source": [
    "f_grid                 = addfile(grid_path, \"r\")\n",
    "f_year                 = addfile(datapath+\"YME.nc\", \"r\")"
   ]
  },
  {
   "cell_type": "code",
   "execution_count": 3,
   "metadata": {},
   "outputs": [
    {
     "name": "stdout",
     "output_type": "stream",
     "text": [
      "Variable: lat_new\n",
      "Type: float\n",
      "Total Size: 460 bytes\n",
      "            115 values\n",
      "Number of Dimensions: 1\n",
      "Dimensions and sizes:\t[lat | 115]\n",
      "Coordinates: \n",
      "            lat: [90..-78]\n",
      "Number Of Attributes: 4\n",
      "  standard_name :\tlatitude\n",
      "  long_name :\tlatitude (on T grids)\n",
      "  units :\tdegrees_north\n",
      "  axis :\tYVariable: lon_new\n",
      "Type: float\n",
      "Total Size: 720 bytes\n",
      "            180 values\n",
      "Number of Dimensions: 1\n",
      "Dimensions and sizes:\t[lon | 180]\n",
      "Coordinates: \n",
      "            lon: [ 0..358]\n",
      "Number Of Attributes: 4\n",
      "  standard_name :\tlongitude\n",
      "  long_name :\tlongitude (on T grids)\n",
      "  units :\tdegrees_east\n",
      "  axis :\tX"
     ]
    }
   ],
   "source": [
    "lat_new                = f_year->lat\n",
    "lon_new                = f_year->lon({0:359})  \n",
    "printVarSummary(lat_new)\n",
    "printVarSummary(lon_new)"
   ]
  },
  {
   "cell_type": "code",
   "execution_count": 4,
   "metadata": {},
   "outputs": [
    {
     "name": "stdout",
     "output_type": "stream",
     "text": [
      "Variable: lat\n",
      "Type: float\n",
      "Total Size: 784 bytes\n",
      "            196 values\n",
      "Number of Dimensions: 1\n",
      "Dimensions and sizes:\t[196]\n",
      "Coordinates: \n",
      "Number Of Attributes: 1\n",
      "  _FillValue :\tnanVariable: lon\n",
      "Type: float\n",
      "Total Size: 1440 bytes\n",
      "            360 values\n",
      "Number of Dimensions: 1\n",
      "Dimensions and sizes:\t[360]\n",
      "Coordinates: \n",
      "Number Of Attributes: 1\n",
      "  _FillValue :\tnan"
     ]
    }
   ],
   "source": [
    "indd                   = (/f_grid->ind(:,{0:359})/)\n",
    "lat                    = (/f_grid->lat/)\n",
    "lon                    = (/f_grid->lon({0:359})/)  \n",
    "printVarSummary(lat)\n",
    "printVarSummary(lon)"
   ]
  },
  {
   "cell_type": "markdown",
   "metadata": {},
   "source": [
    "整个大西洋赋值2，印度洋3，太平洋4"
   ]
  },
  {
   "cell_type": "code",
   "execution_count": 5,
   "metadata": {},
   "outputs": [],
   "source": [
    "indd                   = where(indd.eq.5,2,indd)\n",
    "indd                   = where(indd.eq.7,4,indd)\n",
    "indd                   = where(indd.eq.6,3,indd)"
   ]
  },
  {
   "cell_type": "markdown",
   "metadata": {},
   "source": [
    "插值"
   ]
  },
  {
   "cell_type": "code",
   "execution_count": 6,
   "metadata": {},
   "outputs": [],
   "source": [
    "indd_new               = linint2 (lon,lat,indd, True, lon_new,lat_new, 0)"
   ]
  },
  {
   "cell_type": "markdown",
   "metadata": {},
   "source": [
    "写入metadata"
   ]
  },
  {
   "cell_type": "code",
   "execution_count": 7,
   "metadata": {},
   "outputs": [
    {
     "name": "stdout",
     "output_type": "stream",
     "text": [
      "Variable: indd_new\n",
      "Type: float\n",
      "Total Size: 82800 bytes\n",
      "            20700 values\n",
      "Number of Dimensions: 2\n",
      "Dimensions and sizes:\t[lat | 115] x [lon | 180]\n",
      "Coordinates: \n",
      "            lat: [90..-78]\n",
      "            lon: [ 0..358]\n",
      "Number Of Attributes: 1\n",
      "  _FillValue :\t9.96921e+36"
     ]
    }
   ],
   "source": [
    "indd_new!0             = \"lat\"                                                            \n",
    "indd_new!1             = \"lon\"\n",
    "lon_pts                = lon_new\n",
    "lat_pts                = lat_new\n",
    "lon_pts@units          = \"degrees_east\" \n",
    "lat_pts@units          = \"degrees_north\"\n",
    "indd_new&lon           = lon_pts \n",
    "indd_new&lat           = lat_pts\n",
    "printVarSummary(indd_new)"
   ]
  },
  {
   "cell_type": "markdown",
   "metadata": {},
   "source": [
    "输出nc文件"
   ]
  },
  {
   "cell_type": "code",
   "execution_count": 8,
   "metadata": {},
   "outputs": [],
   "source": [
    "if (isfilepresent(outfile)) then\n",
    "    system (\"rm \" + outfile)\n",
    "end if\n",
    "f_output = addfile(outfile, \"c\")\n",
    "f_output->lat = lat_new\n",
    "f_output->lon = lon_new\n",
    "f_output->indd = indd_new"
   ]
  },
  {
   "cell_type": "markdown",
   "metadata": {},
   "source": [
    ";画图检验"
   ]
  },
  {
   "cell_type": "code",
   "execution_count": 9,
   "metadata": {},
   "outputs": [],
   "source": [
    "wks      = gsn_open_wks(\"png\", output_photo)\n",
    "plots    = new(1,\"graphic\")\n",
    "res_0    = True\n",
    "    res_0@gsnDraw                   =  False\n",
    "    res_0@gsnFrame                  =  False\n",
    "    res_0@cnFillOn                  =  True\n",
    "    res_0@cnInfoLabelOn             =  False\n",
    "    res_0@cnLinesOn                 =  False\n",
    "    res_0@cnLineLabelsOn            =  False\n",
    "    res_0@lbLabelBarOn              =  False\n",
    "    res_0@mpCenterLonF              = 180\n",
    "plots(0) = gsn_csm_contour_map(wks,indd_new, res_0)\n",
    "\n",
    "resP    = True\n",
    "    resP@gsnPanelLabelBar           = False\n",
    "    resP@lbLabelAutoStride          = False\n",
    "    resP@lbBoxSeparatorLinesOn      = False\n",
    "    resP@lbBoxLinesOn               = False\n",
    "    resP@lbBoxEndCapStyle           = \"TriangleBothEnds\"\n",
    "gsn_panel(wks, plots, (/1,1/), resP)"
   ]
  },
  {
   "cell_type": "markdown",
   "metadata": {},
   "source": [
    "![grid](./grid.png)"
   ]
  }
 ],
 "metadata": {
  "kernelspec": {
   "display_name": "NCL",
   "language": "ncl",
   "name": "ncl_kernel"
  },
  "language_info": {
   "file_extension": ".ncl",
   "mimetype": "text/plain",
   "name": "ncl"
  }
 },
 "nbformat": 4,
 "nbformat_minor": 2
}
