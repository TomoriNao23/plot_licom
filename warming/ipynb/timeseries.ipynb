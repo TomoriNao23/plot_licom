{
 "cells": [
  {
   "cell_type": "markdown",
   "metadata": {},
   "source": [
    "### 画海表面温度sst的时间序列(包含年均和月数据)\n",
    "#### use NCL(6.6.2)"
   ]
  },
  {
   "cell_type": "code",
   "execution_count": 1,
   "metadata": {},
   "outputs": [],
   "source": [
    "output                 = \"/home/yyq/mls/dataprocess/warming/photo/timeseries\"\n",
    "datapath               = \"/data06/yyq/mls/licom2/GM-Case1501/exe/\""
   ]
  },
  {
   "cell_type": "code",
   "execution_count": 2,
   "metadata": {},
   "outputs": [],
   "source": [
    "fileslist              = systemfunc(\"ls \"+ datapath+\"MMEAN\" +\"*\") \n",
    "f_year                 = addfile(datapath+\"YME.nc\", \"r\")\n",
    "f                      = addfiles(fileslist, \"r\") "
   ]
  },
  {
   "cell_type": "code",
   "execution_count": 3,
   "metadata": {},
   "outputs": [
    {
     "name": "stdout",
     "output_type": "stream",
     "text": [
      "Variable: sst_year_ori\n",
      "Type: float\n",
      "Total Size: 5106920 bytes\n",
      "            1276730 values\n",
      "Number of Dimensions: 3\n",
      "Dimensions and sizes:\t[time | 61] x [lat | 115] x [lon | 182]\n",
      "Coordinates: \n",
      "            time: [   1.. 721]\n",
      "            lat: [90..-78]\n",
      "            lon: [ 0..362]\n",
      "Number Of Attributes: 5\n",
      "  lev :\t-5\n",
      "  long_name :\ttemperature\n",
      "  units :\tcentigrade\n",
      "  _FillValue :\t1e+35\n",
      "  missing_value :\t1e+35"
     ]
    }
   ],
   "source": [
    "sst_ori                = f[:]->ts(:,0,:,:)\n",
    "sst_year_ori           = f_year->ts(:,0,:,:)\n",
    "printVarSummary(sst_year_ori)"
   ]
  },
  {
   "cell_type": "code",
   "execution_count": 4,
   "metadata": {},
   "outputs": [],
   "source": [
    "lon_size               = dimsizes(sst_year_ori(0,0,:)) - 1 - 2\n",
    "time_size              = dimsizes(sst_year_ori(:,0,0)) - 1"
   ]
  },
  {
   "cell_type": "code",
   "execution_count": 5,
   "metadata": {},
   "outputs": [],
   "source": [
    "sst                    = sst_ori(:,:,0:lon_size)\n",
    "sst_year               = sst_year_ori(:,:,0:lon_size)"
   ]
  },
  {
   "cell_type": "code",
   "execution_count": 6,
   "metadata": {},
   "outputs": [],
   "source": [
    "lat                    = f_year ->lat(:)\n",
    "angle2radian           = 4.0 * atan(1.0) / 180.0\n",
    "dlat                   = cos (lat*angle2radian)"
   ]
  },
  {
   "cell_type": "code",
   "execution_count": 7,
   "metadata": {},
   "outputs": [
    {
     "name": "stdout",
     "output_type": "stream",
     "text": [
      "Variable: sst_area\n",
      "Type: float\n",
      "Total Size: 2928 bytes\n",
      "            732 values\n",
      "Number of Dimensions: 1\n",
      "Dimensions and sizes:\t[time | 732]\n",
      "Coordinates: \n",
      "            time: [   1.. 732]\n",
      "Number Of Attributes: 5\n",
      "  _FillValue :\t1e+35\n",
      "  units :\tcentigrade\n",
      "  long_name :\ttemperature\n",
      "  lev :\t-5\n",
      "  wgt_areaave_op_ncl :\tArea AverageVariable: sst_year_area\n",
      "Type: float\n",
      "Total Size: 244 bytes\n",
      "            61 values\n",
      "Number of Dimensions: 1\n",
      "Dimensions and sizes:\t[time | 61]\n",
      "Coordinates: \n",
      "            time: [   1.. 721]\n",
      "Number Of Attributes: 6\n",
      "  _FillValue :\t1e+35\n",
      "  units :\tcentigrade\n",
      "  long_name :\ttemperature\n",
      "  lev :\t-5\n",
      "  missing_value :\t1e+35\n",
      "  wgt_areaave_op_ncl :\tArea Average"
     ]
    }
   ],
   "source": [
    "sst_area               = wgt_areaave_Wrap(sst, dlat, 1.0, 1)\n",
    "sst_year_area          = wgt_areaave_Wrap(sst_year, dlat, 1.0, 1)\n",
    "sst_year_area          = runave(sst_year_area, 9, 0)\n",
    "printVarSummary(sst_area)\n",
    "printVarSummary(sst_year_area)"
   ]
  },
  {
   "cell_type": "code",
   "execution_count": 8,
   "metadata": {},
   "outputs": [
    {
     "name": "stdout",
     "output_type": "stream",
     "text": [
      "Variable: sst_diff_lat\n",
      "Type: float\n",
      "Total Size: 460 bytes\n",
      "            115 values\n",
      "Number of Dimensions: 1\n",
      "Dimensions and sizes:\t[lat | 115]\n",
      "Coordinates: \n",
      "            lat: [90..-78]\n",
      "Number Of Attributes: 7\n",
      "  missing_value :\t1e+35\n",
      "  lev :\t-5\n",
      "  long_name :\ttemperature\n",
      "  units :\tcentigrade\n",
      "  average_op_ncl :\tdim_avg_n over dimension(s): time\n",
      "  lon :\t 0\n",
      "  _FillValue :\t1e+35"
     ]
    }
   ],
   "source": [
    "sst_end = dim_avg_n_Wrap(sst_year((time_size - 2):time_size,:,:), 0)\n",
    "sst_start = dim_avg_n_Wrap(sst_year(0:2,:,:), 0)\n",
    "sst_diff = sst_end - sst_start\n",
    "sst_diff_lat = dim_avg_n_Wrap(sst_diff, 1)\n",
    "sst_diff_lat = runave(sst_diff_lat, 9, 0)\n",
    "copy_VarMeta(sst_end(:,0), sst_diff_lat)\n",
    "printVarSummary(sst_diff_lat)"
   ]
  },
  {
   "cell_type": "code",
   "execution_count": 9,
   "metadata": {},
   "outputs": [],
   "source": [
    "month                  = dimsizes(sst_area)\n",
    "x                      = new((/month/),float)  \n",
    "x                      = ispan(1,month,1)\n",
    "x                      = x / 12\n",
    "year                   = dimsizes(sst_year_area)\n",
    "xx                     = new((/year/),float) \n",
    "xx                     = ispan(1,year,1)"
   ]
  },
  {
   "cell_type": "code",
   "execution_count": 27,
   "metadata": {},
   "outputs": [],
   "source": [
    "wks      = gsn_open_wks(\"png\", output)\n",
    "plots    = new(2,\"graphic\")\n",
    "res_0    = True\n",
    "    res_0@gsnDraw                = False\n",
    "    res_0@gsnFrame               = False\n",
    "    res_0@tiXAxisString          = \"year\" \n",
    "    res_0@tiYAxisString          = \"SST\"\n",
    "    res_0@gsnRightString          = \"K\"\n",
    "    res_0@trXMinF                = 0.0\n",
    "    res_0@trXMaxF                = 60.0\n",
    "    res_0@vpHeightF              = 0.37\n",
    "    res_0@vpWidthF               = 0.6\n",
    "res_overlay = True\n",
    "    res_overlay@gsnDraw                = False\n",
    "    res_overlay@gsnFrame               = False\n",
    "    res_overlay@xyLineColor      = \"red\"\n",
    "    res_overlay@xyLineThicknesses = 2.5\n",
    "plots(0) = gsn_csm_xy(wks, x, sst_area, res_0)\n",
    "plot_overlay = gsn_csm_xy(wks, xx, sst_year_area, res_overlay)\n",
    "overlay(plots(0), plot_overlay)\n",
    "\n",
    "res_diff = True\n",
    "    res_diff@gsnDraw                = False\n",
    "    res_diff@gsnFrame               = False\n",
    "    res_diff@tiXAxisString          = \"latutude\" \n",
    "    res_diff@tiYAxisString          = \"delta SST\"\n",
    "    res_diff@gsnRightString         = \"K\"\n",
    "    res_diff@trXMinF                = -62\n",
    "    res_diff@trXMaxF                = 62\n",
    "    res_diff@vpHeightF              = 0.37\n",
    "    res_diff@vpWidthF               = 0.6\n",
    "    res_diff@xyLineThicknesses      = 2.5\n",
    "    res_diff@xyLineColor            = \"red\"\n",
    "plots(1) = gsn_csm_xy(wks, lat, sst_diff_lat, res_diff)\n",
    "\n",
    "resP     = True\n",
    "gsn_panel(wks, plots, (/1,2/), resP)"
   ]
  },
  {
   "cell_type": "markdown",
   "metadata": {},
   "source": [
    "![](../photo/timeseries.png)"
   ]
  }
 ],
 "metadata": {
  "kernelspec": {
   "display_name": "NCL",
   "language": "ncl",
   "name": "ncl_kernel"
  },
  "language_info": {
   "file_extension": ".ncl",
   "mimetype": "text/plain",
   "name": "ncl"
  }
 },
 "nbformat": 4,
 "nbformat_minor": 2
}
