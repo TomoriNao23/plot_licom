{
 "cells": [
  {
   "cell_type": "markdown",
   "metadata": {},
   "source": [
    "### 画经向流函数psi最后一年年平均与ctrl试验的差值\n",
    "#### use NCL(6.6.2)"
   ]
  },
  {
   "cell_type": "code",
   "execution_count": 1,
   "metadata": {},
   "outputs": [],
   "source": [
    "output                 = \"/home/yyq/mls/dataprocess/photo/delta_psi\"\n",
    "datapath               = \"/data06/yyq/mls/licom2/addwater_new/exe/\"\n",
    "datapath_ctrl          = \"/data06/yyq/mls/licom2/ctrl/exe/\""
   ]
  },
  {
   "cell_type": "code",
   "execution_count": 2,
   "metadata": {},
   "outputs": [],
   "source": [
    "f_year                 = addfile(datapath+\"YME.nc\", \"r\")\n",
    "f_year_ctrl            = addfile(datapath_ctrl+\"YME.nc\", \"r\")"
   ]
  },
  {
   "cell_type": "code",
   "execution_count": 3,
   "metadata": {},
   "outputs": [
    {
     "name": "stdout",
     "output_type": "stream",
     "text": [
      "Variable: psi_year_a\n",
      "Type: float\n",
      "Total Size: 427800 bytes\n",
      "            106950 values\n",
      "Number of Dimensions: 3\n",
      "Dimensions and sizes:\t[time | 30] x [lev1 | 31] x [lat | 115]\n",
      "Coordinates: \n",
      "            time: [ 709..1057]\n",
      "            lev1: [ 0..-5600]\n",
      "            lat: [90..-78]\n",
      "Number Of Attributes: 4\n",
      "  long_name :\tMeridioanl Stream Function\n",
      "  units :\tSverdrup\n",
      "  _FillValue :\t1e+35\n",
      "  missing_value :\t1e+35"
     ]
    }
   ],
   "source": [
    "psi_year_a             = f_year->psi(:,:,:)\n",
    "psi_year_ctrl_a        = f_year_ctrl->psi(:,:,:)\n",
    "printVarSummary(psi_year_a)"
   ]
  },
  {
   "cell_type": "code",
   "execution_count": 4,
   "metadata": {},
   "outputs": [],
   "source": [
    "time_size              = dimsizes(psi_year_a(:,0,0)) - 1"
   ]
  },
  {
   "cell_type": "code",
   "execution_count": 5,
   "metadata": {},
   "outputs": [
    {
     "name": "stdout",
     "output_type": "stream",
     "text": [
      "Variable: psi_year\n",
      "Type: float\n",
      "Total Size: 14260 bytes\n",
      "            3565 values\n",
      "Number of Dimensions: 2\n",
      "Dimensions and sizes:\t[lev1 | 31] x [lat | 115]\n",
      "Coordinates: \n",
      "            lev1: [ 0..-5600]\n",
      "            lat: [90..-78]\n",
      "Number Of Attributes: 5\n",
      "  time :\t1057\n",
      "  missing_value :\t1e+35\n",
      "  _FillValue :\t1e+35\n",
      "  units :\tSverdrup\n",
      "  long_name :\tMeridioanl Stream Function"
     ]
    }
   ],
   "source": [
    "psi_year               = psi_year_a(time_size,:,:)\n",
    "psi_year_ctrl          = psi_year_ctrl_a(time_size,:,:)\n",
    "printVarSummary(psi_year)"
   ]
  },
  {
   "cell_type": "code",
   "execution_count": 6,
   "metadata": {},
   "outputs": [
    {
     "name": "stdout",
     "output_type": "stream",
     "text": [
      "Variable: psi_delta\n",
      "Type: float\n",
      "Total Size: 14260 bytes\n",
      "            3565 values\n",
      "Number of Dimensions: 2\n",
      "Dimensions and sizes:\t[lev1 | 31] x [lat | 115]\n",
      "Coordinates: \n",
      "            lev1: [ 0..-5600]\n",
      "            lat: [90..-78]\n",
      "Number Of Attributes: 5\n",
      "  missing_value :\t1e+35\n",
      "  time :\t1057\n",
      "  units :\tSverdrup\n",
      "  long_name :\tMeridioanl Stream Function\n",
      "  _FillValue :\t1e+35"
     ]
    }
   ],
   "source": [
    "psi_delta              = psi_year(:,:) - psi_year_ctrl(:,:)\n",
    "copy_VarMeta(psi_year(:,:), psi_delta)\n",
    "printVarSummary(psi_delta)"
   ]
  },
  {
   "cell_type": "code",
   "execution_count": 7,
   "metadata": {},
   "outputs": [],
   "source": [
    "level                  = new((/31/),float)  \n",
    "level                  = ispan(-20,10,1)\n",
    "level                  = level / 10"
   ]
  },
  {
   "cell_type": "code",
   "execution_count": 8,
   "metadata": {},
   "outputs": [
    {
     "name": "stdout",
     "output_type": "stream",
     "text": [
      ".git   a.sh   ipynb  nc     ncl    photo  t"
     ]
    }
   ],
   "source": [
    "wks      = gsn_open_wks(\"png\", output)\n",
    "plots    = new(1,\"graphic\")\n",
    "res_0    = True\n",
    "    res_0@gsnDraw                   =  False\n",
    "    res_0@gsnFrame                  =  False\n",
    "    res_0@cnFillOn                  = True\n",
    "    res_0@cnLevelSelectionMode      = \"ExplicitLevels\"\n",
    "    res_0@cnLevels                  = level\n",
    "    res_0@gsnLeftString             = \"delta Meridioanl Stream Function\"\n",
    "    res_0@gsnLeftStringFontHeightF  = 15\n",
    "    res_0@gsnRightString            = \"Sverdrup\"\n",
    "    res_0@gsnRightStringFontHeightF = 15\n",
    "    res_0@gsnXAxisIrregular2Linear  = True\n",
    "    res_0@gsnYAxisIrregular2Linear  = True\n",
    "    res_0@cnInfoLabelOn             =  False\n",
    "    res_0@cnLinesOn                 =  False\n",
    "    res_0@cnLineLabelsOn            =  False\n",
    "    res_0@lbLabelBarOn              =  False\n",
    "    res_0@vpHeightF                 = 0.37\n",
    "    res_0@vpWidthF                  = 0.6\n",
    "    res_0@trXMinF                   = -75\n",
    "    res_0@trXMaxF                   = 75\n",
    "plots(0) = gsn_csm_contour(wks,psi_delta, res_0)\n",
    "\n",
    "resP = True\n",
    "resP@gsnPanelLabelBar               = True\n",
    "resP@lbLabelStride                  = 5                 ;colorbar每5个色块一个标注\n",
    "resP@lbLabelAutoStride              = False             ;colorbar每条等值线均标注\n",
    "resP@lbBoxSeparatorLinesOn          = False             ;colorbar内部边框隐藏\n",
    "resP@lbBoxLinesOn                   = False             ;colorbar外边框设置为隐藏\n",
    "resP@pmLabelBarHeightF              = 0.05\n",
    "resP@pmLabelBarWidthF               = 0.78\n",
    "resP@pmLabelBarParallelPosF         = 0\n",
    "resP@lbBoxEndCapStyle               = \"TriangleBothEnds\"\n",
    "gsn_panel(wks, plots, (/1,1/), resP)"
   ]
  },
  {
   "cell_type": "markdown",
   "metadata": {},
   "source": [
    "![](../photo/delta_psi.png)"
   ]
  }
 ],
 "metadata": {
  "kernelspec": {
   "display_name": "NCL",
   "language": "ncl",
   "name": "ncl_kernel"
  },
  "language_info": {
   "file_extension": ".ncl",
   "mimetype": "text/plain",
   "name": "ncl"
  }
 },
 "nbformat": 4,
 "nbformat_minor": 2
}
