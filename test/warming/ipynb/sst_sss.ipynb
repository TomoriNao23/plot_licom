{
 "cells": [
  {
   "cell_type": "markdown",
   "metadata": {},
   "source": [
    "### <center>__画最后一年年平均sst与sss变化__"
   ]
  },
  {
   "cell_type": "code",
   "execution_count": 1,
   "metadata": {},
   "outputs": [],
   "source": [
    "output                 = \"/home/yyq/mls/dataprocess/warming/photo/sst_sss\"\n",
    "datapath               = \"/data06/yyq/mls/licom2/GM-Case1501/exe/\"\n",
    "datapath_ctrl          = \"/data06/yyq/mls/licom2/ctrl/exe/\""
   ]
  },
  {
   "cell_type": "code",
   "execution_count": 2,
   "metadata": {},
   "outputs": [],
   "source": [
    "f                      = addfile(datapath+\"YME.nc\", \"r\")\n",
    "f_year_ctrl            = addfile(datapath_ctrl+\"YME.nc\", \"r\")"
   ]
  },
  {
   "cell_type": "code",
   "execution_count": 3,
   "metadata": {},
   "outputs": [],
   "source": [
    "sst_a                  = f->ts(:,0,:,:)\n",
    "sss_a                  = f->ss(:,0,:,:)\n",
    "sst_ctrl_a             = f_year_ctrl->ts(:,0,:,:)\n",
    "sss_ctrl_a             = f_year_ctrl->ss(:,0,:,:)"
   ]
  },
  {
   "cell_type": "code",
   "execution_count": 4,
   "metadata": {},
   "outputs": [],
   "source": [
    "lon_size               = dimsizes(sst_a(0,0,:)) - 3\n",
    "lat_size               = dimsizes(sst_a(0,:,0)) - 1\n",
    "sst                    = sst_a(:,:,0:lon_size)\n",
    "sst_ctrl               = sst_ctrl_a(:,:,0:lon_size)\n",
    "sss                    = sss_a(:,:,0:lon_size)\n",
    "sss_ctrl               = sss_ctrl_a(:,:,0:lon_size)"
   ]
  },
  {
   "cell_type": "code",
   "execution_count": 5,
   "metadata": {},
   "outputs": [
    {
     "name": "stdout",
     "output_type": "stream",
     "text": [
      "Variable: sss_delta\n",
      "Type: float\n",
      "Total Size: 82800 bytes\n",
      "            20700 values\n",
      "Number of Dimensions: 2\n",
      "Dimensions and sizes:\t[lat | 115] x [lon | 180]\n",
      "Coordinates: \n",
      "            lat: [90..-78]\n",
      "            lon: [ 0..358]\n",
      "Number Of Attributes: 6\n",
      "  missing_value :\t1e+35\n",
      "  units :\tpsu\n",
      "  long_name :\tsalinity\n",
      "  lev :\t-5\n",
      "  time :\t   1\n",
      "  _FillValue :\t1e+35"
     ]
    }
   ],
   "source": [
    ";size_time              = dimsizes(sst(:,0,0)) - 1\n",
    "size_time              = 29\n",
    "sst_delta              = sst(size_time,:,:) - sst_ctrl(size_time,:,:)\n",
    "sss_delta              = sss(size_time,:,:) - sss_ctrl(size_time,:,:)\n",
    "\n",
    "copy_VarMeta(sst(0,:,:), sst_delta)\n",
    "copy_VarMeta(sss(0,:,:), sss_delta)\n",
    "\n",
    "printVarSummary(sss_delta)"
   ]
  },
  {
   "cell_type": "code",
   "execution_count": 6,
   "metadata": {},
   "outputs": [],
   "source": [
    "xx                     = new((/size_time + 1/),float) \n",
    "xx                     = ispan(1,size_time + 1,1)"
   ]
  },
  {
   "cell_type": "code",
   "execution_count": 8,
   "metadata": {},
   "outputs": [],
   "source": [
    "sst_diff = sst(0:29,:,:) - sst_ctrl\n",
    "field_sst = sst(0,:,:)\n",
    "tval_sst = sst(0,:,:)\n",
    "do i =0,lat_size\n",
    "    do j =0,lon_size\n",
    "        if (.not. ismissing(tval_sst(i,j))) then\n",
    "        field_sst(i,j) = regline(xx,sst_diff(:,i,j))\n",
    "        tval_sst(i,j) = field_sst@tval\n",
    "        end if\n",
    "    end do\n",
    "end do"
   ]
  },
  {
   "cell_type": "code",
   "execution_count": 10,
   "metadata": {},
   "outputs": [],
   "source": [
    "sss_diff = sss(0:29,:,:) - sss_ctrl\n",
    "field_sss = sss(0,:,:)\n",
    "tval_sss = sss(0,:,:)\n",
    "do i =0,lat_size\n",
    "    do j =0,lon_size\n",
    "        if (.not. ismissing(tval_sss(i,j))) then\n",
    "        field_sss(i,j) = regline(xx,sss_diff(:,i,j))\n",
    "        tval_sss(i,j) = field_sss@tval\n",
    "        end if\n",
    "    end do\n",
    "end do"
   ]
  },
  {
   "cell_type": "code",
   "execution_count": 11,
   "metadata": {},
   "outputs": [],
   "source": [
    "level1                 = new((/41/),float)  \n",
    "level1                 = ispan(-100,100,5)\n",
    "level1                 = level1 / 100\n",
    "\n",
    "level2                 = new((/51/),float)  \n",
    "level2                 = ispan(-25,25,1)\n",
    "level2                 = level2 / 100"
   ]
  },
  {
   "cell_type": "code",
   "execution_count": 12,
   "metadata": {},
   "outputs": [
    {
     "name": "stdout",
     "output_type": "stream",
     "text": [
      ".git      addwater  grid      test      tool      warming.git      addwater  grid      test      tool      warming"
     ]
    }
   ],
   "source": [
    "wks      = gsn_open_wks(\"png\", output)\n",
    "plots    = new(2,\"graphic\")\n",
    "\n",
    "res_t = True\n",
    "    res_t@gsnFrame         = False\n",
    "    res_t@gsnDraw          = False\n",
    "    res_t@cnLinesOn        = False\n",
    "    res_t@cnLineLabelsOn   = False\n",
    "    res_t@cnFillOn         = False\n",
    "    res_t@cnInfoLabelOn    = False\n",
    "    res_t@gsnLeftString = \"\"\n",
    "    res_t@gsnRightString = \"\"\n",
    "    res_t@cnFillOn             = True             ; fill contour intervals\n",
    "    res_t@cnLevelSelectionMode = \"ExplicitLevels\"\n",
    "    res_t@lbLabelBarOn         = False\n",
    "    res_t@cnMonoFillPattern    = False            ; want multiple patterns \n",
    "    res_t@cnFillPatterns       = (/17,-1,17/)     ; the patterns\n",
    "    res_t@cnMonoFillScale      = False            ; want different densities \n",
    "    res_t@cnFillScales         = (/1.,1,1./)      ; the densities\n",
    "    res_t@cnFillColors         = (/1,3,1/)\n",
    "    res_t@cnFillDotSizeF       = 0.0025            ; increase dot size of contours\n",
    "    tvall=cdft_t(0.005,28)\n",
    "    res_t@cnLevels             = (/tvall,-tvall/) ;\n",
    "\n",
    "res_0    = True\n",
    "    res_0@gsnDraw                   =  False\n",
    "    res_0@gsnFrame                  =  False\n",
    "    res_0@cnFillOn                  =  True\n",
    "    res_0@cnInfoLabelOn             =  False\n",
    "    res_0@cnLinesOn                 =  False\n",
    "    res_0@cnLineLabelsOn            =  False\n",
    "    res_0@lbLabelBarOn              =  False\n",
    "    res_0@cnLevelSelectionMode      = \"ExplicitLevels\"\n",
    "    res_0@cnLevels                  = level1\n",
    "    res_0@gsnLeftString             = \"delta sst\"\n",
    "    res_0@gsnLeftStringFontHeightF  = 15\n",
    "    res_0@gsnRightString            = \"K\"\n",
    "    res_0@gsnRightStringFontHeightF = 15\n",
    "    res_0@cnFillPalette             = \"BlRe\"\n",
    "    res_0@mpCenterLonF              = 180\n",
    "    res_0@lbLabelBarOn              = True\n",
    "    res_0@lbLabelStride              = 5                 ;colorbar每5个色块一个标注\n",
    "    res_0@lbLabelAutoStride          = False             ;colorbar每条等值线均标注\n",
    "    res_0@lbBoxSeparatorLinesOn      = False             ;colorbar内部边框隐藏\n",
    "    res_0@lbBoxLinesOn               = False             ;colorbar外边框设置为隐藏\n",
    "    res_0@pmLabelBarHeightF          = 0.05              ;colorbar高度\n",
    "    res_0@pmLabelBarWidthF           = 0.8               ;colorbar宽度\n",
    "    res_0@pmLabelBarOrthogonalPosF   = 0.1               ;colorbar水平偏移\n",
    "    res_0@lbBoxEndCapStyle           = \"TriangleBothEnds\"\n",
    "plots(0) = gsn_csm_contour_map(wks,sst_delta, res_0)\n",
    "plot_test_sst  = gsn_csm_contour(wks,tval_sst,res_t)\n",
    "overlay(plots(0), plot_test_sst)\n",
    "\n",
    "res_1 = True\n",
    "    res_1@gsnDraw                   =  False\n",
    "    res_1@gsnFrame                  =  False\n",
    "    res_1@cnFillOn                  =  True\n",
    "    res_1@cnInfoLabelOn             =  False\n",
    "    res_1@cnLinesOn                 =  False\n",
    "    res_1@cnLineLabelsOn            =  False\n",
    "    res_1@lbLabelBarOn              =  False\n",
    "    res_1@cnFillPalette             = \"BlRe\"\n",
    "    res_1@cnLevelSelectionMode      = \"ExplicitLevels\"\n",
    "    res_1@cnLevels                  = level2\n",
    "    res_1@gsnLeftString             = \"delta salinity\"\n",
    "    res_1@gsnLeftStringFontHeightF  = 15\n",
    "    res_1@mpCenterLonF              = 180\n",
    "    res_1@lbLabelBarOn              = True\n",
    "    res_1@lbLabelStride              = 5                 ;colorbar每5个色块一个标注\n",
    "    res_1@lbLabelAutoStride          = False             ;colorbar每条等值线均标注\n",
    "    res_1@lbBoxSeparatorLinesOn      = False             ;colorbar内部边框隐藏\n",
    "    res_1@lbBoxLinesOn               = False             ;colorbar外边框设置为隐藏\n",
    "    res_1@pmLabelBarHeightF          = 0.05              ;colorbar高度\n",
    "    res_1@pmLabelBarWidthF           = 0.8               ;colorbar宽度\n",
    "    res_1@pmLabelBarOrthogonalPosF   = 0.1               ;colorbar水平偏移\n",
    "    res_1@lbBoxEndCapStyle           = \"TriangleBothEnds\"\n",
    "plots(1) = gsn_csm_contour_map(wks,sss_delta, res_1)\n",
    "plot_test_sss  = gsn_csm_contour(wks,tval_sss,res_t)\n",
    "overlay(plots(1), plot_test_sss)\n",
    "\n",
    "resP    = True\n",
    "gsn_panel(wks, plots, (/1,2/), resP)"
   ]
  },
  {
   "cell_type": "markdown",
   "metadata": {},
   "source": [
    "![delta_sst](../photo/sst_sss.png)"
   ]
  }
 ],
 "metadata": {
  "kernelspec": {
   "display_name": "NCL",
   "language": "ncl",
   "name": "ncl_kernel"
  },
  "language_info": {
   "file_extension": ".ncl",
   "mimetype": "text/plain",
   "name": "ncl"
  }
 },
 "nbformat": 4,
 "nbformat_minor": 2
}
