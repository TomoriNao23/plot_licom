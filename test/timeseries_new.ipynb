{
 "cells": [
  {
   "cell_type": "markdown",
   "metadata": {},
   "source": [
    "### 画海表面温度sst和经向流函数psi的时间序列(包含年均和月数据)\n",
    "#### use NCL(6.6.2)"
   ]
  },
  {
   "cell_type": "code",
   "execution_count": 1,
   "metadata": {},
   "outputs": [],
   "source": [
    "output                 = \"/home/yyq/mls/dataprocess/addwater/photo/timeseries\"\n",
    "datapath               = \"/data06/yyq/mls/licom2/addwater_new/exe/\""
   ]
  },
  {
   "cell_type": "code",
   "execution_count": 2,
   "metadata": {},
   "outputs": [],
   "source": [
    "fileslist              = systemfunc(\"ls \"+ datapath+\"MMEAN\" +\"*\") \n",
    "f_year                 = addfile(datapath+\"YME.nc\", \"r\")\n",
    "f                      = addfiles(fileslist, \"r\") "
   ]
  },
  {
   "cell_type": "code",
   "execution_count": 3,
   "metadata": {},
   "outputs": [
    {
     "name": "stdout",
     "output_type": "stream",
     "text": [
      "Variable: psi_year\n",
      "Type: float\n",
      "Total Size: 16800 bytes\n",
      "            4200 values\n",
      "Number of Dimensions: 3\n",
      "Dimensions and sizes:\t[time | 30] x [lev1 | 5] x [lat | 28]\n",
      "Coordinates: \n",
      "            time: [ 709..1057]\n",
      "            lev1: [-1821.396..-510.9896]\n",
      "            lat: [25..74]\n",
      "Number Of Attributes: 4\n",
      "  long_name :\tMeridioanl Stream Function\n",
      "  units :\tSverdrup\n",
      "  _FillValue :\t1e+35\n",
      "  missing_value :\t1e+35"
     ]
    }
   ],
   "source": [
    "psi                    = f[:]->psi(:,{-2000:-500},{25:75})\n",
    "psi_year               = f_year->psi(:,{-2000:-500},{25:75})\n",
    "printVarSummary(psi_year)"
   ]
  },
  {
   "cell_type": "code",
   "execution_count": 6,
   "metadata": {},
   "outputs": [],
   "source": [
    "lat                    = f_year ->lat(:)\n",
    "angle2radian           = 4.0 * atan(1.0) / 180.0\n",
    "dlat                   = cos (lat*angle2radian)"
   ]
  },
  {
   "cell_type": "code",
   "execution_count": 9,
   "metadata": {},
   "outputs": [],
   "source": [
    "month                  = dimsizes(sst_area)\n",
    "x                      = new((/month/),float)  \n",
    "x                      = ispan(1,month,1)\n",
    "x                      = x / 12\n",
    "year                   = dimsizes(sst_year_area)\n",
    "xx                     = new((/year/),float) \n",
    "xx                     = ispan(1,year,1)"
   ]
  },
  {
   "cell_type": "code",
   "execution_count": 10,
   "metadata": {},
   "outputs": [],
   "source": [
    "wks      = gsn_open_wks(\"png\", output)\n",
    "plots    = new(2,\"graphic\")\n",
    "res_0    = True\n",
    "    res_0@gsnDraw                = False\n",
    "    res_0@gsnFrame               = False\n",
    "    res_0@tiXAxisString          = \"year\" \n",
    "    res_0@gsnLeftString          = \"~S~o~N~C\"\n",
    "plots(0) = gsn_csm_xy(wks, x, sst_area, res_0)\n",
    "plot_year= gsn_csm_xy(wks, xx, sst_year_area, res_0)\n",
    "overlay(plots(0), plot_year)\n"
   ]
  },
  {
   "cell_type": "code",
   "execution_count": 11,
   "metadata": {},
   "outputs": [],
   "source": [
    "resB_0    = True\n",
    "    resB_0@gsnDraw                = False\n",
    "    resB_0@gsnFrame               = False\n",
    "    resB_0@tiXAxisString          = \"year\" \n",
    "    resB_0@gsnLeftString          = \"Sv\"\n",
    "plots(1) = gsn_csm_xy(wks, x, psi_max, resB_0)\n",
    "plotB_year= gsn_csm_xy(wks, xx, psi_year_max, resB_0)\n",
    "overlay(plots(1), plotB_year)"
   ]
  },
  {
   "cell_type": "code",
   "execution_count": 12,
   "metadata": {},
   "outputs": [],
   "source": [
    "resP     = True\n",
    "gsn_panel(wks, plots, (/1,2/), resP)"
   ]
  },
  {
   "cell_type": "markdown",
   "metadata": {},
   "source": [
    "![](../photo/timeseries.png)"
   ]
  }
 ],
 "metadata": {
  "kernelspec": {
   "display_name": "NCL",
   "language": "ncl",
   "name": "ncl_kernel"
  },
  "language_info": {
   "file_extension": ".ncl",
   "mimetype": "text/plain",
   "name": "ncl"
  }
 },
 "nbformat": 4,
 "nbformat_minor": 2
}
