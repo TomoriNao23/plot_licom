{
 "cells": [
  {
   "cell_type": "markdown",
   "metadata": {},
   "source": [
    "### <center>__画最后一年年平均sst与sss垂直变化__"
   ]
  },
  {
   "cell_type": "code",
   "execution_count": 1,
   "metadata": {},
   "outputs": [],
   "source": [
    "output                 = \"/home/yyq/mls/dataprocess/nowind/photo/depth\"\n",
    "output2                 = \"/home/yyq/mls/dataprocess/nowind/photo/depth2\"\n",
    "datapath               = \"/data06/yyq/mls/licom2/nowind/exe/\"\n",
    "datapath_ctrl          = \"/data06/yyq/mls/licom2/ctrl/exe/\""
   ]
  },
  {
   "cell_type": "code",
   "execution_count": 2,
   "metadata": {},
   "outputs": [],
   "source": [
    "f                      = addfile(datapath+\"YME.nc\", \"r\")\n",
    "f_year_ctrl            = addfile(datapath_ctrl+\"YME.nc\", \"r\")"
   ]
  },
  {
   "cell_type": "code",
   "execution_count": 3,
   "metadata": {},
   "outputs": [
    {
     "name": "stdout",
     "output_type": "stream",
     "text": [
      "Variable: lev\n",
      "Type: float\n",
      "Total Size: 120 bytes\n",
      "            30 values\n",
      "Number of Dimensions: 1\n",
      "Dimensions and sizes:\t[lev | 30]\n",
      "Coordinates: \n",
      "            lev: [-5..-5243.597]\n",
      "Number Of Attributes: 3\n",
      "  long_name :\tdepth (on T grids)\n",
      "  units :\tmeter\n",
      "  axis :\tZ"
     ]
    }
   ],
   "source": [
    "sst_a                  = f->ts(:,:,:,:)\n",
    "sss_a                  = f->ss(:,:,:,:)\n",
    "\n",
    "sst_ctrl_a             = f_year_ctrl->ts(:,:,:,:)\n",
    "sss_ctrl_a             = f_year_ctrl->ss(:,:,:,:)\n",
    "\n",
    "lev                    = f->lev(:)\n",
    "printVarSummary(lev)"
   ]
  },
  {
   "cell_type": "code",
   "execution_count": 4,
   "metadata": {},
   "outputs": [],
   "source": [
    "lon_size               = dimsizes(sst_a(0,0,0,:)) - 3\n",
    "lat_size               = dimsizes(sst_a(0,0,:,0)) - 1\n",
    "sst                    = sst_a(:,:,:,0:lon_size)\n",
    "sst_ctrl               = sst_ctrl_a(:,:,:,0:lon_size)\n",
    "sss                    = sss_a(:,:,:,0:lon_size)\n",
    "sss_ctrl               = sss_ctrl_a(:,:,:,0:lon_size)"
   ]
  },
  {
   "cell_type": "code",
   "execution_count": 5,
   "metadata": {},
   "outputs": [
    {
     "name": "stdout",
     "output_type": "stream",
     "text": [
      "Variable: sss_delta\n",
      "Type: float\n",
      "Total Size: 2484000 bytes\n",
      "            621000 values\n",
      "Number of Dimensions: 3\n",
      "Dimensions and sizes:\t[lev | 30] x [lat | 115] x [lon | 180]\n",
      "Coordinates: \n",
      "            lev: [-5..-5243.597]\n",
      "            lat: [90..-78]\n",
      "            lon: [ 0..358]\n",
      "Number Of Attributes: 5\n",
      "  missing_value :\t1e+35\n",
      "  units :\tpsu\n",
      "  long_name :\tsalinity\n",
      "  time :\t 709\n",
      "  _FillValue :\t1e+35"
     ]
    }
   ],
   "source": [
    ";size_time              = dimsizes(sst(:,0,0)) - 1\n",
    "size_time              = 29\n",
    "sst_delta              = sst(size_time,:,:,:) - sst_ctrl(size_time,:,:,:)\n",
    "sss_delta              = sss(size_time,:,:,:) - sss_ctrl(size_time,:,:,:)\n",
    "\n",
    "copy_VarMeta(sst(0,:,:,:), sst_delta)\n",
    "copy_VarMeta(sss(0,:,:,:), sss_delta)\n",
    "\n",
    "printVarSummary(sss_delta)"
   ]
  },
  {
   "cell_type": "code",
   "execution_count": null,
   "metadata": {},
   "outputs": [],
   "source": [
    "lat                    = f ->lat(:)\n",
    "angle2radian           = 4.0 * atan(1.0) / 180.0\n",
    "dlat                   = cos (lat*angle2radian)"
   ]
  },
  {
   "cell_type": "code",
   "execution_count": null,
   "metadata": {},
   "outputs": [],
   "source": [
    "sst_area               = wgt_areaave_Wrap(sst_delta, dlat, 1.0, 1)\n",
    "sss_area               = wgt_areaave_Wrap(sss_delta, dlat, 1.0, 1) "
   ]
  },
  {
   "cell_type": "code",
   "execution_count": null,
   "metadata": {},
   "outputs": [],
   "source": [
    "wks      = gsn_open_wks(\"png\", output)\n",
    "plots    = new(2,\"graphic\")\n",
    "res_sss = True\n",
    "    res_sss@gsnDraw                = False\n",
    "    res_sss@gsnFrame               = False\n",
    "    res_sss@tiYAxisString          = \"Depth (m)\" \n",
    "    res_sss@tiXAxisString          = \"delta Salinlity (psu)\"\n",
    "  ;  res_sss@trXMinF                = -62\n",
    "  ;  res_sss@trXMaxF                = 62\n",
    "    res_sss@vpHeightF              = 0.6\n",
    "    res_sss@vpWidthF               = 0.37 \n",
    "    res_sss@xyLineThicknesses      = 2.5\n",
    "    res_sss@xyLineColor            = \"red\"\n",
    "    res_sss@gsnXRefLine            = (/0/)\n",
    "    res_sss@gsnXRefLineDashPattern = 1\n",
    "    res_sss@gsnXRefLineThicknesses = 2\n",
    "    res_sss@tmXBMaxTicks           = 5\n",
    "\n",
    "plots(1) = gsn_csm_xy(wks, sss_area, lev, res_sss)\n",
    "resP     = True\n",
    "\n",
    "\n",
    "res_sst = True\n",
    "    res_sst@gsnDraw                = False\n",
    "    res_sst@gsnFrame               = False\n",
    "    res_sst@tiYAxisString          = \"Depth (m)\" \n",
    "    res_sst@tiXAxisString          = \"delta SST (K)\"\n",
    "  ;  res_sss@trXMinF                = -62\n",
    "  ;  res_sss@trXMaxF                = 62\n",
    "    res_sst@vpHeightF              = 0.6\n",
    "    res_sst@vpWidthF               = 0.37\n",
    "    res_sst@xyLineThicknesses      = 2.5\n",
    "    res_sst@xyLineColor            = \"red\"\n",
    "    res_sst@gsnXRefLine            = (/0/)\n",
    "    res_sst@gsnXRefLineDashPattern = 1\n",
    "    res_sst@gsnXRefLineThicknesses = 2\n",
    "\n",
    "plots(0) = gsn_csm_xy(wks, sst_area, lev, res_sst)\n",
    "resP     = True\n",
    "gsn_panel(wks, plots, (/1,2/), resP)\n"
   ]
  },
  {
   "cell_type": "markdown",
   "metadata": {},
   "source": [
    "![depth](../photo/depth.png)"
   ]
  },
  {
   "cell_type": "code",
   "execution_count": null,
   "metadata": {},
   "outputs": [],
   "source": [
    "sst_lat = dim_avg_n_Wrap(sst_delta, 2)\n",
    "sss_lat = dim_avg_n_Wrap(sss_delta, 2)"
   ]
  },
  {
   "cell_type": "code",
   "execution_count": null,
   "metadata": {},
   "outputs": [],
   "source": [
    "level1                 = new((/81/),float)  \n",
    "level1                 = ispan(-200,200,5)\n",
    "level1                 = level1 / 100\n",
    "\n",
    "level2                 = new((/81/),float)  \n",
    "level2                 = ispan(-40,40,1)\n",
    "level2                 = level2 / 100\n"
   ]
  },
  {
   "cell_type": "code",
   "execution_count": null,
   "metadata": {},
   "outputs": [],
   "source": [
    "wks2      = gsn_open_wks(\"png\", output2)\n",
    "plots2    = new(2,\"graphic\")\n",
    "res2_0    = True\n",
    "    res2_0@gsnDraw                   =  False\n",
    "    res2_0@gsnFrame                  =  False\n",
    "    res2_0@cnFillOn                  = True\n",
    "    res2_0@cnLevelSelectionMode      = \"ExplicitLevels\"\n",
    "    res2_0@cnLevels                  = level1\n",
    "    res2_0@gsnLeftString             = \"delta SST\"\n",
    "    res2_0@gsnLeftStringFontHeightF  = 15\n",
    "    res2_0@gsnRightString            = \"K\"\n",
    "    res2_0@gsnRightStringFontHeightF = 15\n",
    "    res2_0@gsnXAxisIrregular2Linear  = True\n",
    "    res2_0@gsnYAxisIrregular2Linear  = True\n",
    "    res2_0@cnInfoLabelOn             =  False\n",
    "    res2_0@cnLinesOn                 =  False\n",
    "    res2_0@cnLineLabelsOn            =  False\n",
    "    res2_0@lbLabelBarOn              =  False\n",
    "    res2_0@vpHeightF                 = 0.37\n",
    "    res2_0@vpWidthF                  = 0.6\n",
    "    res2_0@trXMinF                   = -75\n",
    "    res2_0@trXMaxF                   = 75\n",
    "    res2_0@trYMaxF                   = 0\n",
    "    res2_0@tiYAxisString             = \"Depth (m)\" \n",
    "    res2_0@lbLabelBarOn              = True\n",
    "    res2_0@lbLabelStride              = 20\n",
    "    res2_0@lbLabelAutoStride          = False\n",
    "    res2_0@lbBoxSeparatorLinesOn      = False\n",
    "    res2_0@lbBoxLinesOn               = False\n",
    "    res2_0@pmLabelBarHeightF          = 0.035\n",
    "    res2_0@pmLabelBarWidthF           = 0.6\n",
    "    res2_0@pmLabelBarOrthogonalPosF   = 0.00\n",
    "    res2_0@lbBoxEndCapStyle           = \"TriangleBothEnds\"\n",
    "plots2(0) = gsn_csm_contour(wks2,sst_lat, res2_0)\n",
    "\n",
    "res2_1    = True\n",
    "    res2_1@gsnDraw                   =  False\n",
    "    res2_1@gsnFrame                  =  False\n",
    "    res2_1@cnFillOn                  = True\n",
    "    res2_1@cnLevelSelectionMode      = \"ExplicitLevels\"\n",
    "    res2_1@cnLevels                  = level2\n",
    "    res2_1@gsnLeftString             = \"delta Salinlity\"\n",
    "    res2_1@gsnLeftStringFontHeightF  = 15\n",
    "    res2_1@gsnRightString            = \"psu\"\n",
    "    res2_1@gsnRightStringFontHeightF = 15\n",
    "    res2_1@gsnXAxisIrregular2Linear  = True\n",
    "    res2_1@gsnYAxisIrregular2Linear  = True\n",
    "    res2_1@cnInfoLabelOn             =  False\n",
    "    res2_1@cnLinesOn                 =  False\n",
    "    res2_1@cnLineLabelsOn            =  False\n",
    "    res2_1@lbLabelBarOn              =  False\n",
    "    res2_1@vpHeightF                 = 0.37\n",
    "    res2_1@vpWidthF                  = 0.6\n",
    "    res2_1@trXMinF                   = -75\n",
    "    res2_1@trXMaxF                   = 75\n",
    "    res2_1@trYMaxF                   = 0\n",
    "    res2_1@tiYAxisString             = \"Depth (m)\" \n",
    "    res2_1@lbLabelBarOn              = True\n",
    "    res2_1@lbLabelStride              = 20\n",
    "    res2_1@lbLabelAutoStride          = False\n",
    "    res2_1@lbBoxSeparatorLinesOn      = False\n",
    "    res2_1@lbBoxLinesOn               = False\n",
    "    res2_1@pmLabelBarHeightF          = 0.035\n",
    "    res2_1@pmLabelBarWidthF           = 0.6\n",
    "    res2_1@pmLabelBarOrthogonalPosF   = 0.00\n",
    "    res2_1@lbBoxEndCapStyle           = \"TriangleBothEnds\"\n",
    "plots2(1) = gsn_csm_contour(wks2,sss_lat, res2_1)\n",
    "gsn_panel(wks2, plots2, (/1,2/), True)"
   ]
  },
  {
   "cell_type": "markdown",
   "metadata": {},
   "source": [
    "![depth](../photo/depth2.png)"
   ]
  }
 ],
 "metadata": {
  "kernelspec": {
   "display_name": "NCL",
   "language": "ncl",
   "name": "ncl_kernel"
  },
  "language_info": {
   "file_extension": ".ncl",
   "mimetype": "text/plain",
   "name": "ncl"
  }
 },
 "nbformat": 4,
 "nbformat_minor": 2
}
