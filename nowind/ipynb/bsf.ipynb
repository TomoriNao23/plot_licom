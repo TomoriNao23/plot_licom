{
 "cells": [
  {
   "cell_type": "markdown",
   "metadata": {},
   "source": [
    "### <center>__画最后一年年平均正压流函数bsf变化__"
   ]
  },
  {
   "cell_type": "code",
   "execution_count": 16,
   "metadata": {},
   "outputs": [],
   "source": [
    "output                 = \"/home/yyq/mls/dataprocess/nowind/photo/bsf\"\n",
    "datapath               = \"/data06/yyq/mls/licom2/nowind/exe/\"\n",
    "datapath_ctrl          = \"/data06/yyq/mls/licom2/ctrl/exe/\""
   ]
  },
  {
   "cell_type": "code",
   "execution_count": 17,
   "metadata": {},
   "outputs": [],
   "source": [
    "f                      = addfile(datapath+\"YME.nc\", \"r\")\n",
    "f_year_ctrl            = addfile(datapath_ctrl+\"YME.nc\", \"r\")"
   ]
  },
  {
   "cell_type": "code",
   "execution_count": 18,
   "metadata": {},
   "outputs": [
    {
     "name": "stdout",
     "output_type": "stream",
     "text": [
      "Variable: bsf_year_a\n",
      "Type: float\n",
      "Total Size: 2511600 bytes\n",
      "            627900 values\n",
      "Number of Dimensions: 3\n",
      "Dimensions and sizes:\t[time | 30] x [lat | 115] x [lon | 182]\n",
      "Coordinates: \n",
      "            time: [ 709..1057]\n",
      "            lat: [90..-78]\n",
      "            lon: [ 0..362]\n",
      "Number Of Attributes: 4\n",
      "  missing_value :\t1e+35\n",
      "  units :\tSverdrup\n",
      "  long_name :\tBarotropic Stream Function\n",
      "  _FillValue :\t1e+35"
     ]
    }
   ],
   "source": [
    "bsf_year_a             = f->bsf(:,:,:)\n",
    "bsf_year_ctrl_a        = f_year_ctrl->bsf(:,:,:)\n",
    "printVarSummary(bsf_year_a)"
   ]
  },
  {
   "cell_type": "markdown",
   "metadata": {},
   "source": [
    "bsf_year_end为最后一年年平均bsf"
   ]
  },
  {
   "cell_type": "code",
   "execution_count": 19,
   "metadata": {},
   "outputs": [
    {
     "name": "stdout",
     "output_type": "stream",
     "text": [
      "Variable: bsf_delta\n",
      "Type: float\n",
      "Total Size: 82800 bytes\n",
      "            20700 values\n",
      "Number of Dimensions: 2\n",
      "Dimensions and sizes:\t[lat | 115] x [lon | 180]\n",
      "Coordinates: \n",
      "            lat: [90..-78]\n",
      "            lon: [ 0..358]\n",
      "Number Of Attributes: 5\n",
      "  time :\t1057\n",
      "  units :\tSverdrup\n",
      "  long_name :\tBarotropic Stream Function\n",
      "  missing_value :\t1e+35\n",
      "  _FillValue :\t1e+35"
     ]
    }
   ],
   "source": [
    "lon_size               = dimsizes(bsf_year_a(0,0,:)) - 3\n",
    "time_size              = dimsizes(bsf_year_a(:,0,0)) - 1\n",
    "bsf_year_end           = bsf_year_a(time_size,:,0:lon_size)\n",
    "bsf_year_ctrl_end      = bsf_year_ctrl_a(time_size,:,0:lon_size)\n",
    "bsf_delta = bsf_year_end - bsf_year_ctrl_end\n",
    "copy_VarMeta(bsf_year_end, bsf_delta)\n",
    "printVarSummary(bsf_delta)"
   ]
  },
  {
   "cell_type": "markdown",
   "metadata": {},
   "source": [
    "level为特定等值线"
   ]
  },
  {
   "cell_type": "code",
   "execution_count": 20,
   "metadata": {},
   "outputs": [],
   "source": [
    "level                  = new((/81/),float)  \n",
    "level                  = ispan(-80,80,2)\n",
    "level                  = level / 1"
   ]
  },
  {
   "cell_type": "markdown",
   "metadata": {},
   "source": [
    "Draw"
   ]
  },
  {
   "cell_type": "code",
   "execution_count": 27,
   "metadata": {},
   "outputs": [],
   "source": [
    "wks      = gsn_open_wks(\"png\", output)\n",
    "plots    = new(1,\"graphic\")\n",
    "res_0    = True\n",
    "    res_0@gsnDraw                   =  False\n",
    "    res_0@gsnFrame                  =  False\n",
    "    res_0@cnFillOn                  =  True\n",
    "    res_0@cnInfoLabelOn             =  False\n",
    "    res_0@cnLinesOn                 =  False\n",
    "    res_0@cnLineLabelsOn            =  False\n",
    "    res_0@lbLabelBarOn              =  False\n",
    "    res_0@mpCenterLonF              = 180\n",
    "    res_0@cnLevelSelectionMode      = \"ExplicitLevels\"\n",
    "    res_0@cnLevels                  = level\n",
    "    res_0@lbLabelBarOn              = False\n",
    "    res_0@gsnLeftString             = \"delta Barotropic Stream Function\"\n",
    "    res_0@gsnLeftStringFontHeightF  = 15\n",
    "    res_0@gsnRightString            = \"Sverdrup\"\n",
    "    res_0@gsnRightStringFontHeightF = 15\n",
    ";   res_0@cnFillPalette             = \"temp_diff_18lev\"\n",
    "plots(0) = gsn_csm_contour_map(wks,bsf_delta, res_0)\n",
    "resP     = True\n",
    "    resP@gsnPanelLabelBar           = True\n",
    "    resP@lbLabelStride              = 10\n",
    "    resP@lbLabelAutoStride          = False\n",
    "    resP@lbBoxSeparatorLinesOn      = False\n",
    "    resP@lbBoxLinesOn               = False\n",
    "    resP@lbBoxEndCapStyle           = \"TriangleBothEnds\"\n",
    "    resP@pmLabelBarHeightF          = 0.035\n",
    "    resP@pmLabelBarWidthF           = 0.9\n",
    "    resP@pmLabelBarOrthogonalPosF   = 0.00\n",
    "    resP@pmLabelBarParallelPosF     = 0.025\n",
    "gsn_panel(wks, plots, (/1,1/), resP)"
   ]
  },
  {
   "cell_type": "markdown",
   "metadata": {},
   "source": [
    "![bsf](../photo/bsf.png)"
   ]
  }
 ],
 "metadata": {
  "kernelspec": {
   "display_name": "NCL",
   "language": "ncl",
   "name": "ncl_kernel"
  },
  "language_info": {
   "file_extension": ".ncl",
   "mimetype": "text/plain",
   "name": "ncl"
  }
 },
 "nbformat": 4,
 "nbformat_minor": 2
}
